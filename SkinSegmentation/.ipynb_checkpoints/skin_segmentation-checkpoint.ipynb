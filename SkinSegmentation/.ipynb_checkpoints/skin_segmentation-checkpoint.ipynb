{
 "cells": [
  {
   "cell_type": "markdown",
   "id": "d4234f14",
   "metadata": {},
   "source": [
    "# Skin segmentation "
   ]
  },
  {
   "cell_type": "markdown",
   "id": "7bfd193d",
   "metadata": {},
   "source": [
    "In this assignement you will train classifier to assign colors to skin or no skin classes. The data is taken from [Skin Segmentation Data Set](http://archive.ics.uci.edu/ml/datasets/Skin+Segmentation#) in the UCI Machine Learning repository."
   ]
  },
  {
   "cell_type": "markdown",
   "id": "8219bcd5",
   "metadata": {},
   "source": [
    "The  data is in a plain text format and contains four columns. First three contain RGB color data  represented as integers in the range 0-255, and the last column is an integer label  with 1 representing skin and 2 representing no skin. This file we can load directly into a numpy array:"
   ]
  },
  {
   "cell_type": "markdown",
   "id": "b4461e59",
   "metadata": {},
   "source": [
    "You have to install the [scrapbook](https://github.com/nteract/scrapbook) module before using this notebook.  This will help me to automatically scan notebooks  using [papermill](https://github.com/nteract/papermill) module :) "
   ]
  },
  {
   "cell_type": "code",
   "execution_count": 1,
   "id": "7f91214f",
   "metadata": {},
   "outputs": [
    {
     "name": "stderr",
     "output_type": "stream",
     "text": [
      "C:\\Users\\robi2\\anaconda3\\envs\\machinelearning\\lib\\site-packages\\papermill\\iorw.py:50: FutureWarning: pyarrow.HadoopFileSystem is deprecated as of 2.0.0, please use pyarrow.fs.HadoopFileSystem instead.\n",
      "  from pyarrow import HadoopFileSystem\n"
     ]
    }
   ],
   "source": [
    "import numpy as np\n",
    "import scrapbook as sb\n",
    "import matplotlib.pyplot as plt"
   ]
  },
  {
   "cell_type": "markdown",
   "id": "d5401317",
   "metadata": {},
   "source": [
    "Please fill your firstname and name in the cell below."
   ]
  },
  {
   "cell_type": "code",
   "execution_count": 2,
   "id": "da730bc1",
   "metadata": {},
   "outputs": [
    {
     "data": {
      "application/scrapbook.scrap.json+json": {
       "data": [
        "Mikołaj",
        "Mentel"
       ],
       "encoder": "json",
       "name": "person1",
       "version": 1
      }
     },
     "metadata": {
      "scrapbook": {
       "data": true,
       "display": false,
       "name": "person1"
      }
     },
     "output_type": "display_data"
    },
    {
     "data": {
      "text/plain": [
       "['Mikołaj', 'Mentel']"
      ]
     },
     "metadata": {
      "scrapbook": {
       "data": false,
       "display": true,
       "name": "person1"
      }
     },
     "output_type": "display_data"
    },
    {
     "data": {
      "application/scrapbook.scrap.json+json": {
       "data": [
        "Zuzanna",
        "Miarzyńska"
       ],
       "encoder": "json",
       "name": "person2",
       "version": 1
      }
     },
     "metadata": {
      "scrapbook": {
       "data": true,
       "display": false,
       "name": "person2"
      }
     },
     "output_type": "display_data"
    }
   ],
   "source": [
    "sb.glue('person1',['Mikołaj', 'Mentel'], display=True)\n",
    "# In case of the two-person team add second persons\n",
    "sb.glue('person2',['Zuzanna', 'Miarzyńska'])"
   ]
  },
  {
   "cell_type": "code",
   "execution_count": 3,
   "id": "ad4f0124",
   "metadata": {},
   "outputs": [],
   "source": [
    "data = np.loadtxt('data/Skin_NonSkin.txt')"
   ]
  },
  {
   "cell_type": "code",
   "execution_count": 4,
   "id": "c9aef649",
   "metadata": {},
   "outputs": [],
   "source": [
    "rgb  = data[:,:3]\n",
    "lbl = data[:,3].astype('int32') # some function expect labels to be integers"
   ]
  },
  {
   "cell_type": "markdown",
   "id": "0d4a4589",
   "metadata": {},
   "source": [
    "We see that the classes are not balanced:"
   ]
  },
  {
   "cell_type": "code",
   "execution_count": 5,
   "id": "aa2862b0",
   "metadata": {},
   "outputs": [
    {
     "data": {
      "text/plain": [
       "array([     0,  50859, 194198], dtype=int64)"
      ]
     },
     "execution_count": 5,
     "metadata": {},
     "output_type": "execute_result"
    }
   ],
   "source": [
    "np.bincount(lbl)"
   ]
  },
  {
   "cell_type": "markdown",
   "id": "3afc8e1d",
   "metadata": {},
   "source": [
    "## Problem 1 "
   ]
  },
  {
   "cell_type": "markdown",
   "id": "4151fbb7",
   "metadata": {},
   "source": [
    "Compare the performance of the QuadraticDiscriminantAnalysis, LinearDiscriminativeAnalysis and NaiveBayes classifiers on this set. Use the `sklearn` library when needed. Compare the confusion matrices (tnr,  fnr,fpr,tpr), precision and f1_ score and auc_score, as well ROC curves. Prepare a summary table with all the numerical scores one row per classifier and one column per metric (use pandas.DataFame). Plot all  ROC curves on the same plot and label them accordingly. Assume that skin is positive and non-skin negative. "
   ]
  },
  {
   "cell_type": "markdown",
   "id": "4a462792",
   "metadata": {},
   "source": [
    "__Hint__ as you will be repeating this,  it's probably a good idea  to write a python function that does all the analysis. "
   ]
  },
  {
   "cell_type": "code",
   "execution_count": 6,
   "id": "b2ec9d45-4679-4f5e-af55-df1f145ce166",
   "metadata": {},
   "outputs": [],
   "source": [
    "from sklearn.metrics import roc_curve, roc_auc_score, confusion_matrix, precision_score, f1_score\n",
    "from sklearn.model_selection import train_test_split\n",
    "from sklearn.discriminant_analysis import QuadraticDiscriminantAnalysis, LinearDiscriminantAnalysis\n",
    "from sklearn.naive_bayes import GaussianNB"
   ]
  },
  {
   "cell_type": "code",
   "execution_count": 7,
   "id": "d43179f2",
   "metadata": {},
   "outputs": [],
   "source": [
    "import pandas as pd\n",
    "\n",
    "def analize(cls, name, train_X, train_Y, test_X, test_Y):\n",
    "    cls.fit(train_X, train_Y)\n",
    "    test_prediction = cls.predict(test_X)\n",
    "    test_proba = cls.predict_proba(test_X)[:,1]\n",
    "    \n",
    "    tnr, fpr, fnr, tpr = confusion_matrix(test_Y, test_prediction, normalize='true').ravel()\n",
    "    precision =  precision_score(test_Y, test_prediction)\n",
    "    f1 = f1_score(test_Y, test_prediction)\n",
    "    auc = roc_auc_score(test_Y, test_proba)\n",
    "    fprs, tprs, thds = roc_curve(test_Y, test_proba)\n",
    "    \n",
    "    return  pd.DataFrame({'tnr':[tnr],\n",
    "                          'fpr':[fpr],\n",
    "                          'fnr':[fnr],\n",
    "                          'tpr':[tpr],\n",
    "                          'precision' : [precision],\n",
    "                          'f1' :[f1],\n",
    "                          'auc' :[auc]\n",
    "                           }, index=[name]), fprs, tprs, thds"
   ]
  },
  {
   "cell_type": "code",
   "execution_count": 8,
   "id": "08dda139-2688-4e8d-86d7-4352f1796caf",
   "metadata": {},
   "outputs": [],
   "source": [
    "seed =5657\n",
    "rgb_data, rgb_test_data, lbl_data, lbl_test_data = train_test_split(rgb, lbl, test_size=0.25, random_state=seed)\n",
    "\n",
    "qda = QuadraticDiscriminantAnalysis()\n",
    "lda = LinearDiscriminantAnalysis()\n",
    "gnb = GaussianNB()\n",
    "\n",
    "classifiers = [(\"qda\",qda),(\"lda\",lda),(\"nb\", gnb)]"
   ]
  },
  {
   "cell_type": "code",
   "execution_count": 22,
   "id": "5939dbb3",
   "metadata": {},
   "outputs": [
    {
     "data": {
      "application/scrapbook.scrap.json+json": {
       "data": [
        0.9985973308030281,
        0.0014026691969718848,
        0.07828875332394807,
        0.921711246676052,
        0.9942630557664727,
        0.9566134989244693,
        0.9995853448965877
       ],
       "encoder": "json",
       "name": "qda",
       "version": 1
      }
     },
     "metadata": {
      "scrapbook": {
       "data": true,
       "display": false,
       "name": "qda"
      }
     },
     "output_type": "display_data"
    },
    {
     "data": {
      "text/plain": [
       "[0.9985973308030281,\n",
       " 0.0014026691969718848,\n",
       " 0.07828875332394807,\n",
       " 0.921711246676052,\n",
       " 0.9942630557664727,\n",
       " 0.9566134989244693,\n",
       " 0.9995853448965877]"
      ]
     },
     "metadata": {
      "scrapbook": {
       "data": false,
       "display": true,
       "name": "qda"
      }
     },
     "output_type": "display_data"
    },
    {
     "data": {
      "application/scrapbook.scrap.json+json": {
       "data": [
        0.937148043482745,
        0.06285195651725489,
        0.0990145471609573,
        0.9009854528390427,
        0.7908285851582344,
        0.8423207692026468,
        0.945598473303876
       ],
       "encoder": "json",
       "name": "lda",
       "version": 1
      }
     },
     "metadata": {
      "scrapbook": {
       "data": true,
       "display": false,
       "name": "lda"
      }
     },
     "output_type": "display_data"
    },
    {
     "data": {
      "text/plain": [
       "[0.937148043482745,\n",
       " 0.06285195651725489,\n",
       " 0.0990145471609573,\n",
       " 0.9009854528390427,\n",
       " 0.7908285851582344,\n",
       " 0.8423207692026468,\n",
       " 0.945598473303876]"
      ]
     },
     "metadata": {
      "scrapbook": {
       "data": false,
       "display": true,
       "name": "lda"
      }
     },
     "output_type": "display_data"
    },
    {
     "data": {
      "application/scrapbook.scrap.json+json": {
       "data": [
        0.9723385383361868,
        0.027661461663813197,
        0.26834037228218366,
        0.7316596277178163,
        0.8746260284218399,
        0.7967805127331574,
        0.9401898897578688
       ],
       "encoder": "json",
       "name": "nb",
       "version": 1
      }
     },
     "metadata": {
      "scrapbook": {
       "data": true,
       "display": false,
       "name": "nb"
      }
     },
     "output_type": "display_data"
    },
    {
     "data": {
      "text/plain": [
       "[0.9723385383361868,\n",
       " 0.027661461663813197,\n",
       " 0.26834037228218366,\n",
       " 0.7316596277178163,\n",
       " 0.8746260284218399,\n",
       " 0.7967805127331574,\n",
       " 0.9401898897578688]"
      ]
     },
     "metadata": {
      "scrapbook": {
       "data": false,
       "display": true,
       "name": "nb"
      }
     },
     "output_type": "display_data"
    }
   ],
   "source": [
    "frames = []\n",
    "roc_curves = []\n",
    "\n",
    "for name, cls in classifiers:\n",
    "    df, fprs, tprs, thds = analize(cls, name, rgb_data, lbl_data==1, rgb_test_data, lbl_test_data==1)\n",
    "    frames.append(df)\n",
    "    sb.glue(name, [df['tnr'][0], df['fpr'][0], df['fnr'][0], df['tpr'][0], df['precision'][0], df['f1'][0], df['auc'][0]], display=True)\n",
    "    roc_curves.append((name, fprs, tprs, thds))"
   ]
  },
  {
   "cell_type": "markdown",
   "id": "22ddf5f2",
   "metadata": {},
   "source": [
    "For each classifier use the scrapbook to save results. For each string subsitute the corresponding value."
   ]
  },
  {
   "cell_type": "code",
   "execution_count": 10,
   "id": "661e60ff",
   "metadata": {},
   "outputs": [],
   "source": [
    "#sb.glue('qda',['tnr', 'fpr', 'fnr', 'tpr', 'precision', 'f1', 'auc'], display=True)"
   ]
  },
  {
   "cell_type": "code",
   "execution_count": 11,
   "id": "af29cdcf",
   "metadata": {},
   "outputs": [],
   "source": [
    "#sb.glue('lda',['tnr', 'fpr', 'fnr', 'tpr', 'precision', 'f1', 'auc'], display=True)"
   ]
  },
  {
   "cell_type": "code",
   "execution_count": 12,
   "id": "a3b07383",
   "metadata": {},
   "outputs": [],
   "source": [
    "#sb.glue('nb',['tnr', 'fpr', 'fnr', 'tpr', 'precision', 'f1', 'auc'], display=True)"
   ]
  },
  {
   "cell_type": "markdown",
   "id": "8771066c",
   "metadata": {},
   "source": [
    "also please save the ROC plot"
   ]
  },
  {
   "cell_type": "code",
   "execution_count": 20,
   "id": "5f5e2bee",
   "metadata": {},
   "outputs": [
    {
     "data": {
      "image/png": "[encoded data removed]",
      "text/plain": [
       "<Figure size 432x288 with 1 Axes>"
      ]
     },
     "metadata": {
      "needs_background": "light"
     },
     "output_type": "display_data"
    }
   ],
   "source": [
    "fig, ax = plt.subplots()\n",
    "#plot ROCs\n",
    "for roc in roc_curves:\n",
    "    ax.plot(roc[1],roc[2], label=roc[0]);\n",
    "ax.legend()\n",
    "sb.glue('ROC',fig, \"display\", display=False);"
   ]
  },
  {
   "cell_type": "code",
   "execution_count": 14,
   "id": "dcdf25c5",
   "metadata": {},
   "outputs": [
    {
     "data": {
      "text/plain": [
       "1.7924605295910747"
      ]
     },
     "execution_count": 14,
     "metadata": {},
     "output_type": "execute_result"
    }
   ],
   "source": [
    "lbl.sum()/len(lbl)"
   ]
  },
  {
   "cell_type": "code",
   "execution_count": null,
   "id": "0dca3b3e-cc47-4a2e-8734-b1cf8cf749ec",
   "metadata": {},
   "outputs": [],
   "source": []
  },
  {
   "cell_type": "markdown",
   "id": "4288bf74",
   "metadata": {},
   "source": [
    "## Problem 2"
   ]
  },
  {
   "cell_type": "markdown",
   "id": "71e2a482",
   "metadata": {},
   "source": [
    "Repeat same analysis but with RGB  data converted to Hue  Saturation Value (HSV) format. You can use the `colorsys` module for conversion. Use the scrapbook again for saving your results appending \"\\_hsv\" to variable name e.g."
   ]
  },
  {
   "cell_type": "code",
   "execution_count": 15,
   "id": "dbbc5e63",
   "metadata": {},
   "outputs": [
    {
     "data": {
      "application/scrapbook.scrap.json+json": {
       "data": [
        "tnr",
        "fpr",
        "fnr",
        "tpr",
        "precision",
        "f1",
        "auc"
       ],
       "encoder": "json",
       "name": "qda_hsv",
       "version": 1
      }
     },
     "metadata": {
      "scrapbook": {
       "data": true,
       "display": false,
       "name": "qda_hsv"
      }
     },
     "output_type": "display_data"
    },
    {
     "data": {
      "text/plain": [
       "['tnr', 'fpr', 'fnr', 'tpr', 'precision', 'f1', 'auc']"
      ]
     },
     "metadata": {
      "scrapbook": {
       "data": false,
       "display": true,
       "name": "qda_hsv"
      }
     },
     "output_type": "display_data"
    }
   ],
   "source": [
    "sb.glue('qda_hsv',['tnr', 'fpr', 'fnr', 'tpr', 'precision', 'f1', 'auc'], display=True)"
   ]
  },
  {
   "cell_type": "code",
   "execution_count": 16,
   "id": "70fcf794",
   "metadata": {},
   "outputs": [],
   "source": [
    "from colorsys import rgb_to_hsv\n",
    "hsv = np.asarray([rgb_to_hsv(*row) for row in rgb]) #inneficient but it does not matter"
   ]
  },
  {
   "cell_type": "code",
   "execution_count": 17,
   "id": "4d488d60",
   "metadata": {},
   "outputs": [
    {
     "data": {
      "text/plain": [
       "array([[6.29251701e-01, 3.98373984e-01, 1.23000000e+02],\n",
       "       [6.29251701e-01, 4.01639344e-01, 1.22000000e+02],\n",
       "       [6.29251701e-01, 4.04958678e-01, 1.21000000e+02],\n",
       "       ...,\n",
       "       [1.63398693e-01, 3.12883436e-01, 1.63000000e+02],\n",
       "       [1.63398693e-01, 3.12883436e-01, 1.63000000e+02],\n",
       "       [0.00000000e+00, 0.00000000e+00, 2.55000000e+02]])"
      ]
     },
     "execution_count": 17,
     "metadata": {},
     "output_type": "execute_result"
    }
   ],
   "source": [
    "hsv"
   ]
  },
  {
   "cell_type": "code",
   "execution_count": 21,
   "id": "25a20c35",
   "metadata": {},
   "outputs": [],
   "source": [
    "seed =5657\n",
    "hsv_data, hsv_test_data, hsv_lbl_data, hsv_lbl_test_data = train_test_split(hsv, lbl, test_size=0.25, random_state=seed)\n",
    "\n",
    "qda = QuadraticDiscriminantAnalysis()\n",
    "lda = LinearDiscriminantAnalysis()\n",
    "gnb = GaussianNB()\n",
    "\n",
    "classifiers = [(\"qda_hsv\",qda),(\"lda_hsv\",lda),(\"nb_hsv\", gnb)]"
   ]
  },
  {
   "cell_type": "code",
   "execution_count": 23,
   "id": "08c29dfe-3bee-4757-ae3c-6b3fa98f30ab",
   "metadata": {},
   "outputs": [
    {
     "data": {
      "application/scrapbook.scrap.json+json": {
       "data": [
        0.9953588151570784,
        0.004641184842921677,
        0.012435476302205537,
        0.9875645236977945,
        0.9824929971988795,
        0.9850222326234496,
        0.9994807538840038
       ],
       "encoder": "json",
       "name": "qda",
       "version": 1
      }
     },
     "metadata": {
      "scrapbook": {
       "data": true,
       "display": false,
       "name": "qda"
      }
     },
     "output_type": "display_data"
    },
    {
     "data": {
      "text/plain": [
       "[0.9953588151570784,\n",
       " 0.004641184842921677,\n",
       " 0.012435476302205537,\n",
       " 0.9875645236977945,\n",
       " 0.9824929971988795,\n",
       " 0.9850222326234496,\n",
       " 0.9994807538840038]"
      ]
     },
     "metadata": {
      "scrapbook": {
       "data": false,
       "display": true,
       "name": "qda"
      }
     },
     "output_type": "display_data"
    },
    {
     "data": {
      "application/scrapbook.scrap.json+json": {
       "data": [
        0.8920563542977372,
        0.10794364570226284,
        0,
        1,
        0.7095843276541428,
        0.8301249797110858,
        0.9269609472604622
       ],
       "encoder": "json",
       "name": "lda",
       "version": 1
      }
     },
     "metadata": {
      "scrapbook": {
       "data": true,
       "display": false,
       "name": "lda"
      }
     },
     "output_type": "display_data"
    },
    {
     "data": {
      "text/plain": [
       "[0.8920563542977372,\n",
       " 0.10794364570226284,\n",
       " 0.0,\n",
       " 1.0,\n",
       " 0.7095843276541428,\n",
       " 0.8301249797110858,\n",
       " 0.9269609472604622]"
      ]
     },
     "metadata": {
      "scrapbook": {
       "data": false,
       "display": true,
       "name": "lda"
      }
     },
     "output_type": "display_data"
    },
    {
     "data": {
      "application/scrapbook.scrap.json+json": {
       "data": [
        0.9854988758018935,
        0.014501124198106397,
        0.004770843109651181,
        0.9952291568903489,
        0.947646708370569,
        0.9708552681773098,
        0.997254462930337
       ],
       "encoder": "json",
       "name": "nb",
       "version": 1
      }
     },
     "metadata": {
      "scrapbook": {
       "data": true,
       "display": false,
       "name": "nb"
      }
     },
     "output_type": "display_data"
    },
    {
     "data": {
      "text/plain": [
       "[0.9854988758018935,\n",
       " 0.014501124198106397,\n",
       " 0.004770843109651181,\n",
       " 0.9952291568903489,\n",
       " 0.947646708370569,\n",
       " 0.9708552681773098,\n",
       " 0.997254462930337]"
      ]
     },
     "metadata": {
      "scrapbook": {
       "data": false,
       "display": true,
       "name": "nb"
      }
     },
     "output_type": "display_data"
    }
   ],
   "source": [
    "frames = []\n",
    "roc_curves = []\n",
    "\n",
    "for name, cls in classifiers:\n",
    "    df, fprs, tprs, thds = analize(cls, name, hsv_data, hsv_lbl_data==1, hsv_test_data, hsv_lbl_test_data==1)\n",
    "    frames.append(df)\n",
    "    sb.glue(name, [df['tnr'][0], df['fpr'][0], df['fnr'][0], df['tpr'][0], df['precision'][0], df['f1'][0], df['auc'][0]], display=True)\n",
    "    roc_curves.append((name, fprs, tprs, thds))"
   ]
  },
  {
   "cell_type": "code",
   "execution_count": null,
   "id": "230737e8-31f0-4a9d-89a8-248cd00d0f13",
   "metadata": {},
   "outputs": [],
   "source": [
    "fig, ax = plt.subplots()\n",
    "#plot ROCs\n",
    "for roc in roc_curves:\n",
    "    ax.plot(roc[1],roc[2], label=roc[0]);\n",
    "ax.legend()\n",
    "sb.glue('ROC_hsv',fig, \"display\", display=False);"
   ]
  }
 ],
 "metadata": {
  "jupytext": {
   "text_representation": {
    "extension": ".Rmd",
    "format_name": "rmarkdown",
    "format_version": "1.2",
    "jupytext_version": "1.11.1"
   }
  },
  "kernelspec": {
   "display_name": "Python 3",
   "language": "python",
   "name": "python3"
  },
  "language_info": {
   "codemirror_mode": {
    "name": "ipython",
    "version": 3
   },
   "file_extension": ".py",
   "mimetype": "text/x-python",
   "name": "python",
   "nbconvert_exporter": "python",
   "pygments_lexer": "ipython3",
   "version": "3.9.4"
  }
 },
 "nbformat": 4,
 "nbformat_minor": 5
}
