{
 "cells": [
  {
   "cell_type": "markdown",
   "metadata": {},
   "source": [
    "# Exercises\n",
    "\n",
    "There are three exercises in this notebook:\n",
    "\n",
    "1. Use the cross-validation method to test the linear regression with different $\\alpha$ values, at least three.\n",
    "2. Implement a SGD method that will train the Lasso regression for 10 epochs.\n",
    "3. Extend the Fisher's classifier to work with two features. Use the class as the $y$."
   ]
  },
  {
   "cell_type": "markdown",
   "metadata": {},
   "source": [
    "## 1. Cross-validation linear regression\n",
    "\n",
    "You need to change the variable ``alpha`` to be a list of alphas. Next do a loop and finally compare the results."
   ]
  },
  {
   "cell_type": "code",
   "execution_count": 78,
   "metadata": {},
   "outputs": [
    {
     "data": {
      "image/png": "[encoded data removed]",
      "text/plain": [
       "<Figure size 432x288 with 1 Axes>"
      ]
     },
     "metadata": {
      "needs_background": "light"
     },
     "output_type": "display_data"
    }
   ],
   "source": [
    "import matplotlib.pyplot as plt\n",
    "import numpy as np\n",
    "import random\n",
    "\n",
    "x = np.array([188, 181, 197, 168, 167, 187, 178, 194, 140, 176, 168, 192, 173, 142, 176]).reshape(-1, 1).reshape(15,1)\n",
    "y = np.array([141, 106, 149, 59, 79, 136, 65, 136, 52, 87, 115, 140, 82, 69, 121]).reshape(-1, 1).reshape(15,1)\n",
    "\n",
    "x = np.asmatrix(np.c_[np.ones((15,1)),x])\n",
    "\n",
    "I = np.identity(2)\n",
    "alphas = np.arange(0,0.5,0.0005)\n",
    "MSE=[]\n",
    "err=0\n",
    "#Leave-one-out cross-validation\n",
    "# add 1-3 line of code here\n",
    "for alpha in alphas:\n",
    "    err=0\n",
    "    for i in range(y.shape[0]):\n",
    "        x_in = x\n",
    "        y_in = y\n",
    "        x_in = np.delete(x_in, i, axis=0)\n",
    "        y_in = np.delete(y_in, i ,axis=0)\n",
    "        w=np.linalg.inv(x_in.T*x_in + alpha * I)*x_in.T*y_in\n",
    "        w=w.ravel()\n",
    "        y_out = x * w.T\n",
    "        err+=(y-y_out)[i]**2\n",
    "    err=err/y.shape[0]\n",
    "    MSE.append(err[0,0])\n",
    "    \n",
    "# add 1-3 lines to compare the results\n",
    "\n",
    "fig, ax = plt.subplots()\n",
    "ax.plot(alphas, MSE)\n",
    "ax.set(xlabel='alpha', ylabel='MSE', title='Leave-one-out cross-validation')\n",
    "plt.show()\n"
   ]
  },
  {
   "cell_type": "markdown",
   "metadata": {},
   "source": [
    "## 2. Implement based on the Ridge regression example, the Lasso regression.\n",
    "\n",
    "Please implement the SGD method and compare the results with the sklearn Lasso regression results. "
   ]
  },
  {
   "cell_type": "code",
   "execution_count": 79,
   "metadata": {},
   "outputs": [],
   "source": [
    "def sgd(coeffs,x,y,epochs,rate, l1):\n",
    "    norm=np.linalg.norm(x,axis=0)\n",
    "    #print(norm)\n",
    "    w=coeffs[0]\n",
    "    b=coeffs[1]\n",
    "    m=y.shape[0]\n",
    "    n=x.shape[1]\n",
    "    for i in range(epochs):\n",
    "            x_in=x[:,1].reshape(-1,1)\n",
    "            y_pred = x_in*w+b\n",
    "            delta=y-y_pred\n",
    "            if w>0:\n",
    "                dW=(- (2*x_in.T.dot(delta)) + l1 )/norm[1]**2\n",
    "                #print(dW)\n",
    "            else:\n",
    "                dW=(- (2*x_in.T.dot(delta)) - l1 )/norm[1]**2\n",
    "            db=-2*np.sum(y-y_pred)//norm[0]**2\n",
    "            w=w-rate*dW\n",
    "            b=b-rate*db\n",
    "    \n",
    "            \n",
    "    coeffs[0]=b\n",
    "    coeffs[1]=w\n",
    "    return coeffs\n",
    "    # your code goes here"
   ]
  },
  {
   "cell_type": "code",
   "execution_count": 80,
   "metadata": {},
   "outputs": [
    {
     "name": "stdout",
     "output_type": "stream",
     "text": [
      "[  3.87298335 681.21142093]\n",
      "[-101.9          1.1695111]\n",
      "[[-101.72397081    1.16978757]]\n"
     ]
    }
   ],
   "source": [
    "x = np.array([188, 181, 197, 168, 167, 187, 178, 194, 140, 176, 168, 192, 173, 142, 176]).reshape(-1, 1).reshape(15,1)\n",
    "y = np.array([141, 106, 149, 59, 79, 136, 65, 136, 52, 87, 115, 140, 82, 69, 121]).reshape(-1, 1).reshape(15,1)\n",
    "\n",
    "x = np.asmatrix(np.c_[np.ones((15,1)),x])\n",
    "\n",
    "I = np.identity(2)\n",
    "alpha = 0.1\n",
    "\n",
    "init_c=np.zeros((2,1))\n",
    "\n",
    "w2 = sgd(init_c,x,y,1600,0.1,alpha)\n",
    "w2 = w2.ravel()\n",
    "print(w2)\n",
    "\n",
    "w1 = np.linalg.inv(x.T*x + alpha * I)*x.T*y # update this line\n",
    "w1=w1.ravel()\n",
    "print(w1)\n",
    "#w1"
   ]
  },
  {
   "cell_type": "markdown",
   "metadata": {},
   "source": [
    "## 3. Extend the Fisher's classifier\n",
    "\n",
    "Please extend the targets of the ``iris_data`` variable and use it as the $y$."
   ]
  },
  {
   "cell_type": "code",
   "execution_count": 81,
   "metadata": {},
   "outputs": [],
   "source": [
    "import pandas as pd\n",
    "import numpy as np\n",
    "import matplotlib.pyplot as plt\n",
    "from sklearn.datasets import load_iris\n",
    "\n",
    "iris_data = load_iris()\n",
    "iris_df = pd.DataFrame(iris_data.data,columns=iris_data.feature_names)\n",
    "iris_target_df = pd.DataFrame(iris_data.target)\n",
    "iris_df.head()\n",
    "\n",
    "x = iris_df[['sepal width (cm)', 'sepal length (cm)']].values # change here\n",
    "y = iris_target_df.values # change here\n",
    "\n",
    "\n",
    "dataset_size = np.size(x)\n",
    "\n",
    "mean_x, mean_y = np.mean(x), np.mean(y)\n",
    "\n",
    "SS_xy = np.sum(y * x) - dataset_size * mean_y * mean_x\n",
    "SS_xx = np.sum(x * x) - dataset_size * mean_x * mean_x\n",
    "\n",
    "a = SS_xy / SS_xx\n",
    "b = mean_y - a * mean_x\n",
    "\n",
    "\n",
    "y_pred = a * x + b"
   ]
  },
  {
   "cell_type": "code",
   "execution_count": 82,
   "metadata": {},
   "outputs": [],
   "source": [
    "#y_pred"
   ]
  }
 ],
 "metadata": {
  "kernelspec": {
   "display_name": "Python 3",
   "language": "python",
   "name": "python3"
  },
  "language_info": {
   "codemirror_mode": {
    "name": "ipython",
    "version": 3
   },
   "file_extension": ".py",
   "mimetype": "text/x-python",
   "name": "python",
   "nbconvert_exporter": "python",
   "pygments_lexer": "ipython3",
   "version": "3.6.9"
  }
 },
 "nbformat": 4,
 "nbformat_minor": 4
}
