{
 "cells": [
  {
   "cell_type": "markdown",
   "id": "nuclear-preserve",
   "metadata": {
    "slideshow": {
     "slide_type": "slide"
    }
   },
   "source": [
    "# Titanic dataset"
   ]
  },
  {
   "cell_type": "markdown",
   "id": "visible-tuesday",
   "metadata": {},
   "source": [
    "## Assignment team:\n",
    "### Mentel Mikołaj \n",
    "### Miarzyńska Zuzanna"
   ]
  },
  {
   "cell_type": "markdown",
   "id": "corporate-buying",
   "metadata": {},
   "source": [
    "This assigment consists of the introductory problem [Titanic: Machine Learning from Disaster](https://www.kaggle.com/c/titanic). The goal is to train a classifier to predict persons that have survived the disaster. "
   ]
  },
  {
   "cell_type": "markdown",
   "id": "invalid-metro",
   "metadata": {},
   "source": [
    "We will start by reading in the, by now standard, Titanic dataset. It contains information about passengers of the Titanic. The information includes i.a. sex, age, name  and passenger class as well as information if the passenger survived or died in the disaster. You can find more details about this data set [here](http://campus.lakeforest.edu/frank/FILES/MLFfiles/Bio150/Titanic/TitanicMETA.pdf). "
   ]
  },
  {
   "cell_type": "markdown",
   "id": "coated-commonwealth",
   "metadata": {},
   "source": [
    "The data  is in \"coma separated values\" (csv) format and to read it we will use the [pandas](https://pandas.pydata.org) library. Pandas  provides tools for manipulating  data frames and series and is wildly used in data science projects. \n",
    "\n",
    "Please note that this is NOT a pandas manual. For detailed explanation of the concepts and functions used here you should consult the [documentation](https://pandas.pydata.org/pandas-docs/stable/getting_started/index.html). "
   ]
  },
  {
   "cell_type": "code",
   "execution_count": 1,
   "id": "statistical-junction",
   "metadata": {},
   "outputs": [],
   "source": [
    "import numpy as np\n",
    "import matplotlib.pyplot as plt\n",
    "import pandas as pd"
   ]
  },
  {
   "cell_type": "code",
   "execution_count": 2,
   "id": "southwest-adult",
   "metadata": {},
   "outputs": [],
   "source": [
    "data_all = pd.read_csv(\"titanic3.csv\")"
   ]
  },
  {
   "cell_type": "markdown",
   "id": "passive-difficulty",
   "metadata": {},
   "source": [
    "`data_all` is a pandas  [_DataFrame_](https://pandas.pydata.org/pandas-docs/stable/reference/api/pandas.DataFrame.html) object. "
   ]
  },
  {
   "cell_type": "code",
   "execution_count": 3,
   "id": "daily-invention",
   "metadata": {},
   "outputs": [
    {
     "data": {
      "text/plain": [
       "pandas.core.frame.DataFrame"
      ]
     },
     "execution_count": 3,
     "metadata": {},
     "output_type": "execute_result"
    }
   ],
   "source": [
    "type(data_all)"
   ]
  },
  {
   "cell_type": "markdown",
   "id": "metric-prison",
   "metadata": {},
   "source": [
    "We can check what attributes are stored in the DataFrame by listing the column names:"
   ]
  },
  {
   "cell_type": "code",
   "execution_count": 4,
   "id": "stunning-jason",
   "metadata": {},
   "outputs": [
    {
     "data": {
      "text/plain": [
       "Index(['Unnamed: 0', 'pclass', 'survived', 'name', 'sex', 'age', 'sibsp',\n",
       "       'parch', 'ticket', 'fare', 'cabin', 'embarked', 'boat', 'body',\n",
       "       'home.dest'],\n",
       "      dtype='object')"
      ]
     },
     "execution_count": 4,
     "metadata": {},
     "output_type": "execute_result"
    }
   ],
   "source": [
    "data_all.columns"
   ]
  },
  {
   "cell_type": "markdown",
   "id": "referenced-rachel",
   "metadata": {},
   "source": [
    "or get a quick preview using ```head``` function: "
   ]
  },
  {
   "cell_type": "code",
   "execution_count": 5,
   "id": "documented-geology",
   "metadata": {},
   "outputs": [
    {
     "data": {
      "text/html": [
       "<div>\n",
       "<style scoped>\n",
       "    .dataframe tbody tr th:only-of-type {\n",
       "        vertical-align: middle;\n",
       "    }\n",
       "\n",
       "    .dataframe tbody tr th {\n",
       "        vertical-align: top;\n",
       "    }\n",
       "\n",
       "    .dataframe thead th {\n",
       "        text-align: right;\n",
       "    }\n",
       "</style>\n",
       "<table border=\"1\" class=\"dataframe\">\n",
       "  <thead>\n",
       "    <tr style=\"text-align: right;\">\n",
       "      <th></th>\n",
       "      <th>Unnamed: 0</th>\n",
       "      <th>pclass</th>\n",
       "      <th>survived</th>\n",
       "      <th>name</th>\n",
       "      <th>sex</th>\n",
       "      <th>age</th>\n",
       "      <th>sibsp</th>\n",
       "      <th>parch</th>\n",
       "      <th>ticket</th>\n",
       "      <th>fare</th>\n",
       "      <th>cabin</th>\n",
       "      <th>embarked</th>\n",
       "      <th>boat</th>\n",
       "      <th>body</th>\n",
       "      <th>home.dest</th>\n",
       "    </tr>\n",
       "  </thead>\n",
       "  <tbody>\n",
       "    <tr>\n",
       "      <th>0</th>\n",
       "      <td>0</td>\n",
       "      <td>1</td>\n",
       "      <td>1</td>\n",
       "      <td>Allen, Miss. Elisabeth Walton</td>\n",
       "      <td>female</td>\n",
       "      <td>29.0000</td>\n",
       "      <td>0</td>\n",
       "      <td>0</td>\n",
       "      <td>24160</td>\n",
       "      <td>211.3375</td>\n",
       "      <td>B5</td>\n",
       "      <td>S</td>\n",
       "      <td>2</td>\n",
       "      <td>NaN</td>\n",
       "      <td>St Louis, MO</td>\n",
       "    </tr>\n",
       "    <tr>\n",
       "      <th>1</th>\n",
       "      <td>1</td>\n",
       "      <td>1</td>\n",
       "      <td>1</td>\n",
       "      <td>Allison, Master. Hudson Trevor</td>\n",
       "      <td>male</td>\n",
       "      <td>0.9167</td>\n",
       "      <td>1</td>\n",
       "      <td>2</td>\n",
       "      <td>113781</td>\n",
       "      <td>151.5500</td>\n",
       "      <td>C22 C26</td>\n",
       "      <td>S</td>\n",
       "      <td>11</td>\n",
       "      <td>NaN</td>\n",
       "      <td>Montreal, PQ / Chesterville, ON</td>\n",
       "    </tr>\n",
       "  </tbody>\n",
       "</table>\n",
       "</div>"
      ],
      "text/plain": [
       "   Unnamed: 0  pclass  survived                            name     sex  \\\n",
       "0           0       1         1   Allen, Miss. Elisabeth Walton  female   \n",
       "1           1       1         1  Allison, Master. Hudson Trevor    male   \n",
       "\n",
       "       age  sibsp  parch  ticket      fare    cabin embarked boat  body  \\\n",
       "0  29.0000      0      0   24160  211.3375       B5        S    2   NaN   \n",
       "1   0.9167      1      2  113781  151.5500  C22 C26        S   11   NaN   \n",
       "\n",
       "                         home.dest  \n",
       "0                     St Louis, MO  \n",
       "1  Montreal, PQ / Chesterville, ON  "
      ]
     },
     "execution_count": 5,
     "metadata": {},
     "output_type": "execute_result"
    }
   ],
   "source": [
    "data_all.head(2)"
   ]
  },
  {
   "cell_type": "markdown",
   "id": "explicit-mason",
   "metadata": {},
   "source": [
    "For the description of those features please see the before mentioned [link](http://campus.lakeforest.edu/frank/FILES/MLFfiles/Bio150/Titanic/TitanicMETA.pdf). "
   ]
  },
  {
   "cell_type": "markdown",
   "id": "decent-appendix",
   "metadata": {},
   "source": [
    "Another usefull function is ```info```:"
   ]
  },
  {
   "cell_type": "code",
   "execution_count": 6,
   "id": "minute-formula",
   "metadata": {},
   "outputs": [
    {
     "name": "stdout",
     "output_type": "stream",
     "text": [
      "<class 'pandas.core.frame.DataFrame'>\n",
      "RangeIndex: 1309 entries, 0 to 1308\n",
      "Data columns (total 15 columns):\n",
      " #   Column      Non-Null Count  Dtype  \n",
      "---  ------      --------------  -----  \n",
      " 0   Unnamed: 0  1309 non-null   int64  \n",
      " 1   pclass      1309 non-null   int64  \n",
      " 2   survived    1309 non-null   int64  \n",
      " 3   name        1309 non-null   object \n",
      " 4   sex         1309 non-null   object \n",
      " 5   age         1046 non-null   float64\n",
      " 6   sibsp       1309 non-null   int64  \n",
      " 7   parch       1309 non-null   int64  \n",
      " 8   ticket      1309 non-null   object \n",
      " 9   fare        1308 non-null   float64\n",
      " 10  cabin       295 non-null    object \n",
      " 11  embarked    1307 non-null   object \n",
      " 12  boat        486 non-null    object \n",
      " 13  body        121 non-null    float64\n",
      " 14  home.dest   745 non-null    object \n",
      "dtypes: float64(3), int64(5), object(7)\n",
      "memory usage: 153.5+ KB\n"
     ]
    }
   ],
   "source": [
    "data_all.info()"
   ]
  },
  {
   "cell_type": "markdown",
   "id": "latter-maintenance",
   "metadata": {},
   "source": [
    "As we can see not all attributes are known (non-null) for every passanger. This is a frequent situation in real datasets. "
   ]
  },
  {
   "cell_type": "code",
   "execution_count": 7,
   "id": "aggressive-essex",
   "metadata": {},
   "outputs": [
    {
     "data": {
      "text/plain": [
       "0    0.618029\n",
       "1    0.381971\n",
       "Name: survived, dtype: float64"
      ]
     },
     "execution_count": 7,
     "metadata": {},
     "output_type": "execute_result"
    }
   ],
   "source": [
    "data_all.survived.value_counts()/len(data_all)"
   ]
  },
  {
   "cell_type": "code",
   "execution_count": 8,
   "id": "focal-density",
   "metadata": {},
   "outputs": [],
   "source": [
    "### Train/test split"
   ]
  },
  {
   "cell_type": "markdown",
   "id": "alpine-motorcycle",
   "metadata": {},
   "source": [
    "As in every machine learning problem we should split our data into training and testing sets."
   ]
  },
  {
   "cell_type": "code",
   "execution_count": 9,
   "id": "thick-consultation",
   "metadata": {},
   "outputs": [],
   "source": [
    "from sklearn.model_selection import train_test_split"
   ]
  },
  {
   "cell_type": "code",
   "execution_count": 10,
   "id": "protective-february",
   "metadata": {},
   "outputs": [],
   "source": [
    "seed =5657\n",
    "data, test_data = train_test_split(data_all, train_size=0.8, stratify=data_all.survived, random_state=seed)"
   ]
  },
  {
   "cell_type": "code",
   "execution_count": 11,
   "id": "expensive-weather",
   "metadata": {},
   "outputs": [
    {
     "name": "stdout",
     "output_type": "stream",
     "text": [
      "<class 'pandas.core.frame.DataFrame'>\n",
      "Int64Index: 1047 entries, 207 to 1206\n",
      "Data columns (total 15 columns):\n",
      " #   Column      Non-Null Count  Dtype  \n",
      "---  ------      --------------  -----  \n",
      " 0   Unnamed: 0  1047 non-null   int64  \n",
      " 1   pclass      1047 non-null   int64  \n",
      " 2   survived    1047 non-null   int64  \n",
      " 3   name        1047 non-null   object \n",
      " 4   sex         1047 non-null   object \n",
      " 5   age         845 non-null    float64\n",
      " 6   sibsp       1047 non-null   int64  \n",
      " 7   parch       1047 non-null   int64  \n",
      " 8   ticket      1047 non-null   object \n",
      " 9   fare        1046 non-null   float64\n",
      " 10  cabin       242 non-null    object \n",
      " 11  embarked    1045 non-null   object \n",
      " 12  boat        389 non-null    object \n",
      " 13  body        92 non-null     float64\n",
      " 14  home.dest   608 non-null    object \n",
      "dtypes: float64(3), int64(5), object(7)\n",
      "memory usage: 130.9+ KB\n"
     ]
    }
   ],
   "source": [
    "data.info()"
   ]
  },
  {
   "cell_type": "code",
   "execution_count": 12,
   "id": "fourth-broad",
   "metadata": {},
   "outputs": [
    {
     "data": {
      "text/plain": [
       "0    0.617956\n",
       "1    0.382044\n",
       "Name: survived, dtype: float64"
      ]
     },
     "execution_count": 12,
     "metadata": {},
     "output_type": "execute_result"
    }
   ],
   "source": [
    "data.survived.value_counts()/len(data)"
   ]
  },
  {
   "cell_type": "code",
   "execution_count": 13,
   "id": "residential-jaguar",
   "metadata": {},
   "outputs": [
    {
     "data": {
      "text/plain": [
       "0    0.618321\n",
       "1    0.381679\n",
       "Name: survived, dtype: float64"
      ]
     },
     "execution_count": 13,
     "metadata": {},
     "output_type": "execute_result"
    }
   ],
   "source": [
    "test_data.survived.value_counts()/len(test_data)"
   ]
  },
  {
   "cell_type": "markdown",
   "id": "backed-population",
   "metadata": {},
   "source": [
    "## Problem 1"
   ]
  },
  {
   "cell_type": "markdown",
   "id": "lined-conjunction",
   "metadata": {},
   "source": [
    "__a) Implement a Bayes classifier for predicting passenger survival  using sex and pclass  features.__"
   ]
  },
  {
   "cell_type": "markdown",
   "id": "imposed-cyprus",
   "metadata": {},
   "source": [
    "Actually this problem will be solved for you below to serve as an tutorial on pandas :) "
   ]
  },
  {
   "cell_type": "markdown",
   "id": "loving-victim",
   "metadata": {},
   "source": [
    "#### Preliminaries"
   ]
  },
  {
   "cell_type": "markdown",
   "id": "confused-harmony",
   "metadata": {},
   "source": [
    "We will start by extracting from the frame  only the information we need:"
   ]
  },
  {
   "cell_type": "code",
   "execution_count": 14,
   "id": "significant-brisbane",
   "metadata": {},
   "outputs": [],
   "source": [
    "data_selected = data[['pclass', 'sex', 'survived']]"
   ]
  },
  {
   "cell_type": "code",
   "execution_count": 15,
   "id": "nutritional-alexander",
   "metadata": {},
   "outputs": [
    {
     "name": "stdout",
     "output_type": "stream",
     "text": [
      "<class 'pandas.core.frame.DataFrame'>\n",
      "Int64Index: 1047 entries, 207 to 1206\n",
      "Data columns (total 3 columns):\n",
      " #   Column    Non-Null Count  Dtype \n",
      "---  ------    --------------  ----- \n",
      " 0   pclass    1047 non-null   int64 \n",
      " 1   sex       1047 non-null   object\n",
      " 2   survived  1047 non-null   int64 \n",
      "dtypes: int64(2), object(1)\n",
      "memory usage: 32.7+ KB\n"
     ]
    }
   ],
   "source": [
    "data_selected.info()"
   ]
  },
  {
   "cell_type": "code",
   "execution_count": 16,
   "id": "latest-today",
   "metadata": {},
   "outputs": [
    {
     "data": {
      "text/html": [
       "<div>\n",
       "<style scoped>\n",
       "    .dataframe tbody tr th:only-of-type {\n",
       "        vertical-align: middle;\n",
       "    }\n",
       "\n",
       "    .dataframe tbody tr th {\n",
       "        vertical-align: top;\n",
       "    }\n",
       "\n",
       "    .dataframe thead th {\n",
       "        text-align: right;\n",
       "    }\n",
       "</style>\n",
       "<table border=\"1\" class=\"dataframe\">\n",
       "  <thead>\n",
       "    <tr style=\"text-align: right;\">\n",
       "      <th></th>\n",
       "      <th>pclass</th>\n",
       "      <th>sex</th>\n",
       "      <th>survived</th>\n",
       "    </tr>\n",
       "  </thead>\n",
       "  <tbody>\n",
       "    <tr>\n",
       "      <th>207</th>\n",
       "      <td>1</td>\n",
       "      <td>female</td>\n",
       "      <td>1</td>\n",
       "    </tr>\n",
       "    <tr>\n",
       "      <th>363</th>\n",
       "      <td>2</td>\n",
       "      <td>male</td>\n",
       "      <td>0</td>\n",
       "    </tr>\n",
       "    <tr>\n",
       "      <th>966</th>\n",
       "      <td>3</td>\n",
       "      <td>female</td>\n",
       "      <td>0</td>\n",
       "    </tr>\n",
       "    <tr>\n",
       "      <th>1292</th>\n",
       "      <td>3</td>\n",
       "      <td>male</td>\n",
       "      <td>0</td>\n",
       "    </tr>\n",
       "    <tr>\n",
       "      <th>118</th>\n",
       "      <td>1</td>\n",
       "      <td>male</td>\n",
       "      <td>0</td>\n",
       "    </tr>\n",
       "  </tbody>\n",
       "</table>\n",
       "</div>"
      ],
      "text/plain": [
       "      pclass     sex  survived\n",
       "207        1  female         1\n",
       "363        2    male         0\n",
       "966        3  female         0\n",
       "1292       3    male         0\n",
       "118        1    male         0"
      ]
     },
     "execution_count": 16,
     "metadata": {},
     "output_type": "execute_result"
    }
   ],
   "source": [
    "data_selected.head(5)"
   ]
  },
  {
   "cell_type": "markdown",
   "id": "incredible-tucson",
   "metadata": {},
   "source": [
    "First we need to group passengers according to sex, class and survival status. This can be achieved using  the [`groupby`](https://pandas.pydata.org/pandas-docs/stable/reference/api/pandas.DataFrame.groupby.html) function:"
   ]
  },
  {
   "cell_type": "code",
   "execution_count": 17,
   "id": "smaller-diagnosis",
   "metadata": {},
   "outputs": [],
   "source": [
    "grouped = data_selected.groupby(['survived','sex','pclass'])"
   ]
  },
  {
   "cell_type": "markdown",
   "id": "dirty-surname",
   "metadata": {},
   "source": [
    "We can count the number of passegers in each group using function ```size```:"
   ]
  },
  {
   "cell_type": "code",
   "execution_count": 18,
   "id": "welcome-trailer",
   "metadata": {},
   "outputs": [],
   "source": [
    "counts = grouped.size()"
   ]
  },
  {
   "cell_type": "markdown",
   "id": "lonely-poultry",
   "metadata": {},
   "source": [
    "Object ```counts``` contains all the information that we need to construct the classifier:"
   ]
  },
  {
   "cell_type": "code",
   "execution_count": 19,
   "id": "spiritual-socket",
   "metadata": {},
   "outputs": [
    {
     "data": {
      "text/plain": [
       "survived  sex     pclass\n",
       "0         female  1           3\n",
       "                  2          10\n",
       "                  3          81\n",
       "          male    1          95\n",
       "                  2         125\n",
       "                  3         333\n",
       "1         female  1         120\n",
       "                  2          72\n",
       "                  3          85\n",
       "          male    1          45\n",
       "                  2          17\n",
       "                  3          61\n",
       "dtype: int64"
      ]
     },
     "execution_count": 19,
     "metadata": {},
     "output_type": "execute_result"
    }
   ],
   "source": [
    "counts"
   ]
  },
  {
   "cell_type": "markdown",
   "id": "genuine-location",
   "metadata": {},
   "source": [
    "`counts` is a pandas [_Series_](https://pandas.pydata.org/pandas-docs/stable/reference/api/pandas.Series.html) object indexed by a [_MultiIndex_](https://pandas.pydata.org/pandas-docs/stable/user_guide/advanced.html#advanced-hierarchical)."
   ]
  },
  {
   "cell_type": "code",
   "execution_count": 20,
   "id": "maritime-maine",
   "metadata": {},
   "outputs": [
    {
     "data": {
      "text/plain": [
       "MultiIndex([(0, 'female', 1),\n",
       "            (0, 'female', 2),\n",
       "            (0, 'female', 3),\n",
       "            (0,   'male', 1),\n",
       "            (0,   'male', 2),\n",
       "            (0,   'male', 3),\n",
       "            (1, 'female', 1),\n",
       "            (1, 'female', 2),\n",
       "            (1, 'female', 3),\n",
       "            (1,   'male', 1),\n",
       "            (1,   'male', 2),\n",
       "            (1,   'male', 3)],\n",
       "           names=['survived', 'sex', 'pclass'])"
      ]
     },
     "execution_count": 20,
     "metadata": {},
     "output_type": "execute_result"
    }
   ],
   "source": [
    "counts.index"
   ]
  },
  {
   "cell_type": "markdown",
   "id": "elementary-sitting",
   "metadata": {},
   "source": [
    "We can treat a multi-indexed series as an multi-dimensional table with each level of the index corresponding to one dimension. You can index `counts` to obtain information on specified entry: "
   ]
  },
  {
   "cell_type": "code",
   "execution_count": 21,
   "id": "interstate-indianapolis",
   "metadata": {},
   "outputs": [
    {
     "data": {
      "text/plain": [
       "72"
      ]
     },
     "execution_count": 21,
     "metadata": {},
     "output_type": "execute_result"
    }
   ],
   "source": [
    "counts[1,'female',2]"
   ]
  },
  {
   "cell_type": "markdown",
   "id": "greek-violence",
   "metadata": {},
   "source": [
    "The index is hierarchical, if we do not provide all indices, a subset of elements will be returned e.g. "
   ]
  },
  {
   "cell_type": "code",
   "execution_count": 22,
   "id": "harmful-rhythm",
   "metadata": {},
   "outputs": [
    {
     "data": {
      "text/plain": [
       "pclass\n",
       "1    120\n",
       "2     72\n",
       "3     85\n",
       "dtype: int64"
      ]
     },
     "execution_count": 22,
     "metadata": {},
     "output_type": "execute_result"
    }
   ],
   "source": [
    "counts[1,'female']"
   ]
  },
  {
   "cell_type": "markdown",
   "id": "ecological-nelson",
   "metadata": {},
   "source": [
    "list the number of male surviving women  in each class. Similarly "
   ]
  },
  {
   "cell_type": "code",
   "execution_count": 23,
   "id": "therapeutic-genetics",
   "metadata": {},
   "outputs": [
    {
     "data": {
      "text/plain": [
       "sex     pclass\n",
       "female  1         120\n",
       "        2          72\n",
       "        3          85\n",
       "male    1          45\n",
       "        2          17\n",
       "        3          61\n",
       "dtype: int64"
      ]
     },
     "execution_count": 23,
     "metadata": {},
     "output_type": "execute_result"
    }
   ],
   "source": [
    "counts[1]"
   ]
  },
  {
   "cell_type": "markdown",
   "id": "least-lying",
   "metadata": {},
   "source": [
    "lists the number of survivors for each sex and class."
   ]
  },
  {
   "cell_type": "markdown",
   "id": "outdoor-actress",
   "metadata": {},
   "source": [
    "It is however better to use the `loc` function. With this function we can also use the _slicing_ notation. For example "
   ]
  },
  {
   "cell_type": "code",
   "execution_count": 24,
   "id": "another-diabetes",
   "metadata": {},
   "outputs": [
    {
     "data": {
      "text/plain": [
       "survived  sex     pclass\n",
       "0         female  3          81\n",
       "          male    3         333\n",
       "dtype: int64"
      ]
     },
     "execution_count": 24,
     "metadata": {},
     "output_type": "execute_result"
    }
   ],
   "source": [
    "counts.loc[0, :,3]"
   ]
  },
  {
   "cell_type": "markdown",
   "id": "russian-parish",
   "metadata": {},
   "source": [
    "list non-survivors in third class  regardless of sex. "
   ]
  },
  {
   "cell_type": "markdown",
   "id": "acceptable-engineering",
   "metadata": {},
   "source": [
    "Both `[]` and `loc[]` can  also take a _tuple_ as an argument: "
   ]
  },
  {
   "cell_type": "code",
   "execution_count": 25,
   "id": "unable-pension",
   "metadata": {},
   "outputs": [
    {
     "data": {
      "text/plain": [
       "81"
      ]
     },
     "execution_count": 25,
     "metadata": {},
     "output_type": "execute_result"
    }
   ],
   "source": [
    "counts.loc[(0, 'female',3)]"
   ]
  },
  {
   "cell_type": "markdown",
   "id": "smoking-edition",
   "metadata": {},
   "source": [
    "but the use of slice notation in tuple is not permitted. You can use it by providing an explicit _slice_ object "
   ]
  },
  {
   "cell_type": "code",
   "execution_count": 26,
   "id": "local-federal",
   "metadata": {},
   "outputs": [
    {
     "data": {
      "text/plain": [
       "survived  sex     pclass\n",
       "0         female  3          81\n",
       "          male    3         333\n",
       "dtype: int64"
      ]
     },
     "execution_count": 26,
     "metadata": {},
     "output_type": "execute_result"
    }
   ],
   "source": [
    "counts.loc[(0, slice(None),3)]"
   ]
  },
  {
   "cell_type": "markdown",
   "id": "personalized-warehouse",
   "metadata": {},
   "source": [
    "Function `sum`  as expected returns the sum of all the entries of the series"
   ]
  },
  {
   "cell_type": "code",
   "execution_count": 27,
   "id": "turkish-kinase",
   "metadata": {},
   "outputs": [
    {
     "name": "stdout",
     "output_type": "stream",
     "text": [
      "1047 400 647\n",
      "True\n"
     ]
    }
   ],
   "source": [
    "n_passengers = counts.sum()\n",
    "n_survivors = counts[1].sum()\n",
    "n_dead = counts[0].sum()\n",
    "\n",
    "print(n_passengers, n_survivors, n_dead)\n",
    "print(n_survivors+n_dead==n_passengers)"
   ]
  },
  {
   "cell_type": "markdown",
   "id": "greenhouse-person",
   "metadata": {},
   "source": [
    "### Classifier"
   ]
  },
  {
   "cell_type": "markdown",
   "id": "alert-seating",
   "metadata": {},
   "source": [
    "To implement classifier we need to calculate the conditional probability of survival given sex and class:"
   ]
  },
  {
   "cell_type": "markdown",
   "id": "spread-large",
   "metadata": {},
   "source": [
    "$$P(survived|sex, pclass)$$"
   ]
  },
  {
   "cell_type": "markdown",
   "id": "downtown-cologne",
   "metadata": {},
   "source": [
    "$survived$ here is the label taht can take two values 0 for dead and 1 fro survivors, but we can  calculate only the survival probability because of the realation"
   ]
  },
  {
   "cell_type": "markdown",
   "id": "union-skirt",
   "metadata": {},
   "source": [
    "$$P(survived=1|sex, pclass)+P(survived=0|sex, pclass)=1$$"
   ]
  },
  {
   "cell_type": "markdown",
   "id": "native-dinner",
   "metadata": {},
   "source": [
    "We can use the Bayes theorem but it will be actually quicker to calculate it directly from the definition:"
   ]
  },
  {
   "cell_type": "markdown",
   "id": "generous-defeat",
   "metadata": {},
   "source": [
    "$$P(survived|sex, pclass)=\\frac{P(survived,sex, pclass)}{P(sex, pclass)}\n",
    "\\approx \\frac{\\#(survived,sex, pclass)}{\\#(sex,pclass)}$$"
   ]
  },
  {
   "cell_type": "markdown",
   "id": "unknown-trick",
   "metadata": {},
   "source": [
    "where by $\\#$ I have denoted the number of passengers with given attributes. For example the probability of survival for a women traveling in second class is: "
   ]
  },
  {
   "cell_type": "markdown",
   "id": "about-individual",
   "metadata": {},
   "source": [
    "$$\\frac{\\text{number of women in second class that survived}}{\\text{number of women in second class}}$$"
   ]
  },
  {
   "cell_type": "markdown",
   "id": "confidential-control",
   "metadata": {},
   "source": [
    "which we can calculate as"
   ]
  },
  {
   "cell_type": "code",
   "execution_count": 28,
   "id": "disturbed-tsunami",
   "metadata": {},
   "outputs": [
    {
     "data": {
      "text/plain": [
       "0.8780487804878049"
      ]
     },
     "execution_count": 28,
     "metadata": {},
     "output_type": "execute_result"
    }
   ],
   "source": [
    "counts[(1,'female',2)]/(counts[(1,'female',2)]+counts[(0,'female',2)])"
   ]
  },
  {
   "cell_type": "markdown",
   "id": "metric-battlefield",
   "metadata": {},
   "source": [
    "This operation has to be repeated for every sex and class combination. We do not have to do it index by index. Pandas have overloaded arithmetic operations that work  on all indices at once e.g. "
   ]
  },
  {
   "cell_type": "code",
   "execution_count": 29,
   "id": "vertical-shower",
   "metadata": {},
   "outputs": [],
   "source": [
    "by_sex_class = counts.loc[0]+counts.loc[1]"
   ]
  },
  {
   "cell_type": "markdown",
   "id": "grand-combat",
   "metadata": {},
   "source": [
    "sex     pclasscreates a series with number of passengers of each gender and class"
   ]
  },
  {
   "cell_type": "code",
   "execution_count": 30,
   "id": "downtown-avatar",
   "metadata": {},
   "outputs": [
    {
     "data": {
      "text/plain": [
       "sex     pclass\n",
       "female  1         123\n",
       "        2          82\n",
       "        3         166\n",
       "male    1         140\n",
       "        2         142\n",
       "        3         394\n",
       "dtype: int64"
      ]
     },
     "execution_count": 30,
     "metadata": {},
     "output_type": "execute_result"
    }
   ],
   "source": [
    "by_sex_class"
   ]
  },
  {
   "cell_type": "markdown",
   "id": "infectious-society",
   "metadata": {},
   "source": [
    "Same effect can be achieved by passing `level` argument to the series `sum` function. The level argument lists the levels which are __not__ summed over. In other words those are the levels left after summation. To sum over the `survived` level we use"
   ]
  },
  {
   "cell_type": "code",
   "execution_count": 31,
   "id": "grateful-computer",
   "metadata": {},
   "outputs": [
    {
     "name": "stdout",
     "output_type": "stream",
     "text": [
      "sex     pclass\n",
      "female  1         123\n",
      "        2          82\n",
      "        3         166\n",
      "male    1         140\n",
      "        2         142\n",
      "        3         394\n",
      "dtype: int64\n"
     ]
    }
   ],
   "source": [
    "by_sex_class = counts.sum(level=['sex','pclass'])\n",
    "print(by_sex_class)"
   ]
  },
  {
   "cell_type": "code",
   "execution_count": 32,
   "id": "express-charge",
   "metadata": {},
   "outputs": [
    {
     "name": "stdout",
     "output_type": "stream",
     "text": [
      "survived  sex     pclass\n",
      "0         female  1           3\n",
      "                  2          10\n",
      "                  3          81\n",
      "          male    1          95\n",
      "                  2         125\n",
      "                  3         333\n",
      "1         female  1         120\n",
      "                  2          72\n",
      "                  3          85\n",
      "          male    1          45\n",
      "                  2          17\n",
      "                  3          61\n",
      "dtype: int64\n"
     ]
    }
   ],
   "source": [
    "print(counts)"
   ]
  },
  {
   "cell_type": "markdown",
   "id": "liable-shannon",
   "metadata": {},
   "source": [
    "Using `counts` and `by_sex_class` you can calculate required conditional propabilities. "
   ]
  },
  {
   "cell_type": "code",
   "execution_count": 33,
   "id": "informative-supply",
   "metadata": {
    "tags": []
   },
   "outputs": [
    {
     "name": "stdout",
     "output_type": "stream",
     "text": [
      "sex     pclass  survived\n",
      "female  1       0           0.024390\n",
      "                1           0.975610\n",
      "        2       0           0.121951\n",
      "                1           0.878049\n",
      "        3       0           0.487952\n",
      "                1           0.512048\n",
      "male    1       0           0.678571\n",
      "                1           0.321429\n",
      "        2       0           0.880282\n",
      "                1           0.119718\n",
      "        3       0           0.845178\n",
      "                1           0.154822\n",
      "dtype: float64\n"
     ]
    }
   ],
   "source": [
    "p_surv_cond_sex_pclass = (counts/by_sex_class)\n",
    "print(p_surv_cond_sex_pclass)\n",
    "p_surv_cond_sex_pclass = p_surv_cond_sex_pclass.reorder_levels(['survived','sex','pclass']).sort_index()"
   ]
  },
  {
   "cell_type": "code",
   "execution_count": 34,
   "id": "provincial-bronze",
   "metadata": {
    "tags": []
   },
   "outputs": [
    {
     "data": {
      "text/plain": [
       "survived  sex     pclass\n",
       "0         female  1         0.024390\n",
       "                  2         0.121951\n",
       "                  3         0.487952\n",
       "          male    1         0.678571\n",
       "                  2         0.880282\n",
       "                  3         0.845178\n",
       "1         female  1         0.975610\n",
       "                  2         0.878049\n",
       "                  3         0.512048\n",
       "          male    1         0.321429\n",
       "                  2         0.119718\n",
       "                  3         0.154822\n",
       "dtype: float64"
      ]
     },
     "execution_count": 34,
     "metadata": {},
     "output_type": "execute_result"
    }
   ],
   "source": [
    "p_surv_cond_sex_pclass"
   ]
  },
  {
   "cell_type": "markdown",
   "id": "czech-venture",
   "metadata": {
    "tags": []
   },
   "source": [
    "In the above expression we have used a very useful feature of pandas series. When performing an arithmetic operation  the elements of the series are _joined_ based on the common index levels.  "
   ]
  },
  {
   "cell_type": "markdown",
   "id": "protective-orientation",
   "metadata": {
    "tags": []
   },
   "source": [
    "`counts` have three levels of index"
   ]
  },
  {
   "cell_type": "code",
   "execution_count": 35,
   "id": "native-consciousness",
   "metadata": {
    "tags": []
   },
   "outputs": [
    {
     "data": {
      "text/plain": [
       "FrozenList(['survived', 'sex', 'pclass'])"
      ]
     },
     "execution_count": 35,
     "metadata": {},
     "output_type": "execute_result"
    }
   ],
   "source": [
    "counts.index.names"
   ]
  },
  {
   "cell_type": "markdown",
   "id": "distributed-quest",
   "metadata": {
    "tags": []
   },
   "source": [
    "and `by_sex_class` has two"
   ]
  },
  {
   "cell_type": "code",
   "execution_count": 36,
   "id": "inclusive-mountain",
   "metadata": {
    "tags": []
   },
   "outputs": [
    {
     "data": {
      "text/plain": [
       "FrozenList(['sex', 'pclass'])"
      ]
     },
     "execution_count": 36,
     "metadata": {},
     "output_type": "execute_result"
    }
   ],
   "source": [
    "by_sex_class.index.names"
   ]
  },
  {
   "cell_type": "markdown",
   "id": "fifteen-trustee",
   "metadata": {
    "tags": []
   },
   "source": [
    "Levels 'sex' and 'pclass' are common to both indexes so the expression"
   ]
  },
  {
   "cell_type": "markdown",
   "id": "indonesian-indicator",
   "metadata": {
    "tags": []
   },
   "source": [
    "```p_surv_cond_sex_pclass = (counts/by_sex_class)```"
   ]
  },
  {
   "cell_type": "markdown",
   "id": "caring-coast",
   "metadata": {},
   "source": [
    "will have a three level index with  levels 'survived', 'sex' and 'pclass'  and is equivalent to:"
   ]
  },
  {
   "cell_type": "code",
   "execution_count": 37,
   "id": "crucial-craft",
   "metadata": {
    "tags": []
   },
   "outputs": [],
   "source": [
    "p_surv_cond_sex_pclass = pd.Series(0,index=counts.index)\n",
    "for survived, sex, pclass in counts.index: \n",
    "    p = counts.loc[survived, sex, pclass]/by_sex_class.loc[sex, pclass]\n",
    "    p_surv_cond_sex_pclass.loc[(survived, sex, pclass)] = p"
   ]
  },
  {
   "cell_type": "markdown",
   "id": "crazy-plain",
   "metadata": {
    "tags": []
   },
   "source": [
    "Unfortunatelly this join operation also reorders the levels of the multi index so we have to order them back using `reorder_levels` and `sort_index` function."
   ]
  },
  {
   "cell_type": "markdown",
   "id": "consistent-tomato",
   "metadata": {
    "tags": []
   },
   "source": [
    "```p_surv_cond_sex_pclass = (counts/by_sex_class).reorder_levels(['survived','sex','pclass']).sort_index()```"
   ]
  },
  {
   "cell_type": "markdown",
   "id": "after-civilization",
   "metadata": {},
   "source": [
    "We can check that we indeed get the identical values"
   ]
  },
  {
   "cell_type": "code",
   "execution_count": 38,
   "id": "horizontal-nickname",
   "metadata": {
    "tags": []
   },
   "outputs": [
    {
     "data": {
      "text/plain": [
       "sex     pclass\n",
       "female  1         1.0\n",
       "        2         1.0\n",
       "        3         1.0\n",
       "male    1         1.0\n",
       "        2         1.0\n",
       "        3         1.0\n",
       "dtype: float64"
      ]
     },
     "execution_count": 38,
     "metadata": {},
     "output_type": "execute_result"
    }
   ],
   "source": [
    "p_surv_cond_sex_pclass.sum(level=['sex', 'pclass'])"
   ]
  },
  {
   "cell_type": "markdown",
   "id": "sunset-setting",
   "metadata": {},
   "source": [
    "#### b) Calculate TPR and FPR on the train and test set. Draw the ROC curve and calculate AUC score"
   ]
  },
  {
   "cell_type": "markdown",
   "id": "brief-senegal",
   "metadata": {},
   "source": [
    "The TPR is the fraction of survivors that were classified as survivors. And FPR is the fraction of dead persons that were classified as survivors. We classify a person as survivor when the probability of survival is  greater or equal to one half. "
   ]
  },
  {
   "cell_type": "code",
   "execution_count": 39,
   "id": "single-germany",
   "metadata": {},
   "outputs": [],
   "source": [
    "test_data_selected = test_data[['pclass', 'sex', 'survived']]"
   ]
  },
  {
   "cell_type": "code",
   "execution_count": 40,
   "id": "spiritual-marina",
   "metadata": {},
   "outputs": [
    {
     "data": {
      "text/plain": [
       "pandas.core.series.Series"
      ]
     },
     "execution_count": 40,
     "metadata": {},
     "output_type": "execute_result"
    }
   ],
   "source": [
    "type (p_surv_cond_sex_pclass)"
   ]
  },
  {
   "cell_type": "code",
   "execution_count": 41,
   "id": "headed-bachelor",
   "metadata": {},
   "outputs": [
    {
     "data": {
      "text/plain": [
       "survived  sex     pclass\n",
       "0         female  1         0.024390\n",
       "                  2         0.121951\n",
       "                  3         0.487952\n",
       "          male    1         0.678571\n",
       "                  2         0.880282\n",
       "                  3         0.845178\n",
       "1         female  1         0.975610\n",
       "                  2         0.878049\n",
       "                  3         0.512048\n",
       "          male    1         0.321429\n",
       "                  2         0.119718\n",
       "                  3         0.154822\n",
       "dtype: float64"
      ]
     },
     "execution_count": 41,
     "metadata": {},
     "output_type": "execute_result"
    }
   ],
   "source": [
    "p_surv_cond_sex_pclass"
   ]
  },
  {
   "cell_type": "code",
   "execution_count": 42,
   "id": "alert-occurrence",
   "metadata": {},
   "outputs": [
    {
     "data": {
      "text/html": [
       "<div>\n",
       "<style scoped>\n",
       "    .dataframe tbody tr th:only-of-type {\n",
       "        vertical-align: middle;\n",
       "    }\n",
       "\n",
       "    .dataframe tbody tr th {\n",
       "        vertical-align: top;\n",
       "    }\n",
       "\n",
       "    .dataframe thead th {\n",
       "        text-align: right;\n",
       "    }\n",
       "</style>\n",
       "<table border=\"1\" class=\"dataframe\">\n",
       "  <thead>\n",
       "    <tr style=\"text-align: right;\">\n",
       "      <th></th>\n",
       "      <th>Unnamed: 0</th>\n",
       "      <th>pclass</th>\n",
       "      <th>survived</th>\n",
       "      <th>name</th>\n",
       "      <th>sex</th>\n",
       "      <th>age</th>\n",
       "      <th>sibsp</th>\n",
       "      <th>parch</th>\n",
       "      <th>ticket</th>\n",
       "      <th>fare</th>\n",
       "      <th>cabin</th>\n",
       "      <th>embarked</th>\n",
       "      <th>boat</th>\n",
       "      <th>body</th>\n",
       "      <th>home.dest</th>\n",
       "    </tr>\n",
       "  </thead>\n",
       "  <tbody>\n",
       "    <tr>\n",
       "      <th>207</th>\n",
       "      <td>207</td>\n",
       "      <td>1</td>\n",
       "      <td>1</td>\n",
       "      <td>Minahan, Miss. Daisy E</td>\n",
       "      <td>female</td>\n",
       "      <td>33.0</td>\n",
       "      <td>1</td>\n",
       "      <td>0</td>\n",
       "      <td>19928</td>\n",
       "      <td>90.000</td>\n",
       "      <td>C78</td>\n",
       "      <td>Q</td>\n",
       "      <td>14</td>\n",
       "      <td>NaN</td>\n",
       "      <td>Green Bay, WI</td>\n",
       "    </tr>\n",
       "    <tr>\n",
       "      <th>363</th>\n",
       "      <td>363</td>\n",
       "      <td>2</td>\n",
       "      <td>0</td>\n",
       "      <td>Campbell, Mr. William</td>\n",
       "      <td>male</td>\n",
       "      <td>NaN</td>\n",
       "      <td>0</td>\n",
       "      <td>0</td>\n",
       "      <td>239853</td>\n",
       "      <td>0.000</td>\n",
       "      <td>NaN</td>\n",
       "      <td>S</td>\n",
       "      <td>NaN</td>\n",
       "      <td>NaN</td>\n",
       "      <td>Belfast</td>\n",
       "    </tr>\n",
       "    <tr>\n",
       "      <th>966</th>\n",
       "      <td>966</td>\n",
       "      <td>3</td>\n",
       "      <td>0</td>\n",
       "      <td>Lindahl, Miss. Agda Thorilda Viktoria</td>\n",
       "      <td>female</td>\n",
       "      <td>25.0</td>\n",
       "      <td>0</td>\n",
       "      <td>0</td>\n",
       "      <td>347071</td>\n",
       "      <td>7.775</td>\n",
       "      <td>NaN</td>\n",
       "      <td>S</td>\n",
       "      <td>NaN</td>\n",
       "      <td>NaN</td>\n",
       "      <td>NaN</td>\n",
       "    </tr>\n",
       "    <tr>\n",
       "      <th>1292</th>\n",
       "      <td>1292</td>\n",
       "      <td>3</td>\n",
       "      <td>0</td>\n",
       "      <td>Willey, Mr. Edward</td>\n",
       "      <td>male</td>\n",
       "      <td>NaN</td>\n",
       "      <td>0</td>\n",
       "      <td>0</td>\n",
       "      <td>S.O./P.P. 751</td>\n",
       "      <td>7.550</td>\n",
       "      <td>NaN</td>\n",
       "      <td>S</td>\n",
       "      <td>NaN</td>\n",
       "      <td>NaN</td>\n",
       "      <td>NaN</td>\n",
       "    </tr>\n",
       "    <tr>\n",
       "      <th>118</th>\n",
       "      <td>118</td>\n",
       "      <td>1</td>\n",
       "      <td>0</td>\n",
       "      <td>Franklin, Mr. Thomas Parham</td>\n",
       "      <td>male</td>\n",
       "      <td>NaN</td>\n",
       "      <td>0</td>\n",
       "      <td>0</td>\n",
       "      <td>113778</td>\n",
       "      <td>26.550</td>\n",
       "      <td>D34</td>\n",
       "      <td>S</td>\n",
       "      <td>NaN</td>\n",
       "      <td>NaN</td>\n",
       "      <td>Westcliff-on-Sea, Essex</td>\n",
       "    </tr>\n",
       "  </tbody>\n",
       "</table>\n",
       "</div>"
      ],
      "text/plain": [
       "      Unnamed: 0  pclass  survived                                   name  \\\n",
       "207          207       1         1                 Minahan, Miss. Daisy E   \n",
       "363          363       2         0                  Campbell, Mr. William   \n",
       "966          966       3         0  Lindahl, Miss. Agda Thorilda Viktoria   \n",
       "1292        1292       3         0                     Willey, Mr. Edward   \n",
       "118          118       1         0            Franklin, Mr. Thomas Parham   \n",
       "\n",
       "         sex   age  sibsp  parch         ticket    fare cabin embarked boat  \\\n",
       "207   female  33.0      1      0          19928  90.000   C78        Q   14   \n",
       "363     male   NaN      0      0         239853   0.000   NaN        S  NaN   \n",
       "966   female  25.0      0      0         347071   7.775   NaN        S  NaN   \n",
       "1292    male   NaN      0      0  S.O./P.P. 751   7.550   NaN        S  NaN   \n",
       "118     male   NaN      0      0         113778  26.550   D34        S  NaN   \n",
       "\n",
       "      body                home.dest  \n",
       "207    NaN            Green Bay, WI  \n",
       "363    NaN                  Belfast  \n",
       "966    NaN                      NaN  \n",
       "1292   NaN                      NaN  \n",
       "118    NaN  Westcliff-on-Sea, Essex  "
      ]
     },
     "execution_count": 42,
     "metadata": {},
     "output_type": "execute_result"
    }
   ],
   "source": [
    "data.head(5)\n"
   ]
  },
  {
   "cell_type": "markdown",
   "id": "entire-school",
   "metadata": {},
   "source": [
    "Solution"
   ]
  },
  {
   "cell_type": "code",
   "execution_count": 43,
   "id": "nutritional-absolute",
   "metadata": {},
   "outputs": [],
   "source": [
    "test_data_selected = test_data[['pclass', 'sex', 'survived']]\n",
    "test_grouped = test_data_selected.groupby(['survived','sex','pclass'])\n",
    "test_counts = test_grouped.size()"
   ]
  },
  {
   "cell_type": "code",
   "execution_count": 44,
   "id": "regulated-hearts",
   "metadata": {},
   "outputs": [],
   "source": [
    "def calcTPRandFPR(classifier, counts):\n",
    "    TP=0\n",
    "    FP=0\n",
    "    TN=0\n",
    "    FN=0\n",
    "    \n",
    "    for sex,pclass in classifier.index:\n",
    "        if classifier.loc[(sex,pclass)]>=0.5:\n",
    "            TP+=counts.loc[(1,sex,pclass)]\n",
    "            FP+=counts.loc[(0,sex,pclass)]\n",
    "        else:\n",
    "            TN+=counts.loc[(0,sex,pclass)]\n",
    "            FN+=counts.loc[(1,sex,pclass)]\n",
    "    \n",
    "    TPR = TP/counts.loc[1].sum()\n",
    "    FPR = FP/counts.loc[0].sum()\n",
    "\n",
    "    return TPR,FPR\n",
    "\n",
    "def roc_plot(figsize=[8,8]):\n",
    "    \"\"\"Returns figure and axes object for plotting ROC curve\n",
    "    setting aspect ration to one and labeling the axes.\n",
    "    \"\"\"\n",
    "    fig, ax = plt.subplots(figsize=figsize)\n",
    "    ax.set_aspect(1)\n",
    "    ax.set_xlabel('FPR');\n",
    "    ax.set_ylabel('TPR');\n",
    "    return fig,ax"
   ]
  },
  {
   "cell_type": "code",
   "execution_count": 45,
   "id": "middle-fleece",
   "metadata": {},
   "outputs": [
    {
     "name": "stdout",
     "output_type": "stream",
     "text": [
      "sex     pclass\n",
      "female  1         123\n",
      "        2          82\n",
      "        3         166\n",
      "male    1         140\n",
      "        2         142\n",
      "        3         394\n",
      "dtype: int64 1047\n"
     ]
    }
   ],
   "source": [
    "by_survived_class = counts.sum(level=['survived'])\n",
    "all_passengers = counts.sum()\n",
    "print(by_sex_class, all_passengers)\n",
    "# TPR = "
   ]
  },
  {
   "cell_type": "code",
   "execution_count": 46,
   "id": "lesbian-benefit",
   "metadata": {},
   "outputs": [
    {
     "name": "stdout",
     "output_type": "stream",
     "text": [
      "Train data TPR:  0.6925  Test data TPR:  0.62\n",
      "Train data FPR:  0.14528593508500773  Test data FPR:  0.2037037037037037\n"
     ]
    },
    {
     "data": {
      "image/png": "[encoded data removed]",
      "text/plain": [
       "<Figure size 576x576 with 1 Axes>"
      ]
     },
     "metadata": {
      "needs_background": "light"
     },
     "output_type": "display_data"
    }
   ],
   "source": [
    "from sklearn.metrics import roc_curve, roc_auc_score\n",
    "\n",
    "p_surv_cond_sex_pclass\n",
    "\n",
    "\n",
    "c = p_surv_cond_sex_pclass.loc[1]\n",
    "\n",
    "train_TPR, train_FPR = calcTPRandFPR(c,counts)\n",
    "test_TPR, test_FPR = calcTPRandFPR(c,test_counts)\n",
    "\n",
    "print(\"Train data TPR: \",train_TPR,\" Test data TPR: \", test_TPR)\n",
    "print(\"Train data FPR: \",train_FPR,\" Test data FPR: \", test_FPR)\n",
    "\n",
    "\n",
    "labels = np.array(data.survived)\n",
    "\n",
    "probabilities = np.array([c.loc[(sex,pclass)] for sex, pclass in zip(data_selected['sex'], data_selected['pclass'])])\n",
    "\n",
    "fprs, tprs, thds = roc_curve(labels, probabilities);\n",
    "auc = roc_auc_score(labels, probabilities)\n",
    "\n",
    "fig, ax = roc_plot()\n",
    "\n",
    "roc = ax.plot(fprs,tprs);\n",
    "ax.fill_between(fprs,tprs,alpha=0.5);\n",
    "\n",
    "ax.set_title(\"Train data set ROC curve\", fontsize=14);\n",
    "ax.plot([0,1],[0,1],'-', c='grey', linewidth = 1 )\n",
    "ax.plot([0,0,1],[0,1,1],'--', c = roc[0].get_color() , linewidth=0.5)\n",
    "#ax.scatter([0],[0],s = 30, c = roc[0].get_color() )\n",
    "ax.scatter([1],[1],s = 30)\n",
    "ax.scatter([0],[1],s = 30, edgecolor='blue', facecolor='white', zorder=5)\n",
    "\n",
    "ax.text(0.7, 0.3, \"AUC = %3.2f\"%(auc,), fontsize=16 );\n",
    "bayesian_roc={\n",
    "    \"tpr\":tprs,\n",
    "    \"fpr\":fprs\n",
    "    \n",
    "}"
   ]
  },
  {
   "cell_type": "code",
   "execution_count": 47,
   "id": "f93ad5b8-6aec-45d5-9cc9-7acc13d8ceb3",
   "metadata": {},
   "outputs": [
    {
     "data": {
      "image/png": "[encoded data removed]",
      "text/plain": [
       "<Figure size 576x576 with 1 Axes>"
      ]
     },
     "metadata": {
      "needs_background": "light"
     },
     "output_type": "display_data"
    }
   ],
   "source": [
    "test_labels = np.array(test_data.survived)\n",
    "\n",
    "test_probabilities = np.array([c.loc[(sex,pclass)] for sex, pclass in zip(test_data_selected ['sex'], test_data_selected ['pclass'])])\n",
    "\n",
    "test_fprs, test_tprs, test_thds = roc_curve(test_labels, test_probabilities);\n",
    "test_auc = roc_auc_score(test_labels, test_probabilities)\n",
    "\n",
    "fig, ax = roc_plot()\n",
    "\n",
    "roc = ax.plot(test_fprs,test_tprs);\n",
    "ax.fill_between(test_fprs,test_tprs,alpha=0.5);\n",
    "\n",
    "ax.set_title(\"Test data set ROC curve\", fontsize=14);\n",
    "ax.plot([0,1],[0,1],'-', c='grey', linewidth = 1 )\n",
    "ax.plot([0,0,1],[0,1,1],'--', c = roc[0].get_color() , linewidth=0.5)\n",
    "#ax.scatter([0],[0],s = 30, c = roc[0].get_color() )\n",
    "ax.scatter([1],[1],s = 30)\n",
    "ax.scatter([0],[1],s = 30, edgecolor='blue', facecolor='white', zorder=5)\n",
    "\n",
    "ax.text(0.7, 0.3, \"AUC = %3.2f\"%(auc,), fontsize=16 );\n",
    "test_bayesian_roc={\n",
    "    \"tpr\":test_tprs,\n",
    "    \"fpr\":test_fprs\n",
    "}"
   ]
  },
  {
   "cell_type": "markdown",
   "id": "friendly-oasis",
   "metadata": {},
   "source": [
    "For ROC and AUC use the functions from scikit-learn library."
   ]
  },
  {
   "cell_type": "markdown",
   "id": "residential-memory",
   "metadata": {},
   "source": [
    "#### c) Are those features conditionally independent? "
   ]
  },
  {
   "cell_type": "markdown",
   "id": "furnished-completion",
   "metadata": {},
   "source": [
    "To answer this question we need to compare conditional probability distribution"
   ]
  },
  {
   "cell_type": "markdown",
   "id": "simplified-humanity",
   "metadata": {},
   "source": [
    "$$P(sex,pclass|survived)$$"
   ]
  },
  {
   "cell_type": "markdown",
   "id": "sought-clark",
   "metadata": {},
   "source": [
    "with"
   ]
  },
  {
   "cell_type": "markdown",
   "id": "extraordinary-eleven",
   "metadata": {},
   "source": [
    "$$P(sex|survied)\\times P(pclass|survived)$$ "
   ]
  },
  {
   "cell_type": "markdown",
   "id": "duplicate-malta",
   "metadata": {},
   "source": [
    "Please note that $survived$ is actually a label for the survival status: 1 for survived and 0 for dead. "
   ]
  },
  {
   "cell_type": "markdown",
   "id": "undefined-armstrong",
   "metadata": {},
   "source": [
    "By definition"
   ]
  },
  {
   "cell_type": "markdown",
   "id": "advisory-cleaners",
   "metadata": {},
   "source": [
    "$$P(sex,pclass|survived)= \\frac{P(sex,pclass,survived)}{P(survived)}$$"
   ]
  },
  {
   "cell_type": "markdown",
   "id": "covered-celtic",
   "metadata": {},
   "source": [
    "which can be calculated based on the `counts` object. "
   ]
  },
  {
   "cell_type": "code",
   "execution_count": 48,
   "id": "senior-dispute",
   "metadata": {},
   "outputs": [
    {
     "name": "stdout",
     "output_type": "stream",
     "text": [
      "sex     pclass  survived\n",
      "female  1       0          -0.017369\n",
      "                1           0.014344\n",
      "        2       0          -0.014859\n",
      "                1           0.025919\n",
      "        3       0           0.032228\n",
      "                1          -0.040263\n",
      "male    1       0           0.017369\n",
      "                1          -0.014344\n",
      "        2       0           0.014859\n",
      "                1          -0.025919\n",
      "        3       0          -0.032228\n",
      "                1           0.040263\n",
      "dtype: float64\n"
     ]
    }
   ],
   "source": [
    "by_survived = counts.sum(level=['survived'])\n",
    "p_sex_pclass_cond_survived = counts/by_survived\n",
    "p_sex_pclass_cond_survived = p_sex_pclass_cond_survived.reorder_levels(['sex','pclass','survived']).sort_index()\n",
    "\n",
    "p_sex_cond_survived = counts.sum(level=['sex','survived'])/by_survived\n",
    "p_pclass_cond_survived = counts.sum(level=['pclass', 'survived'])/by_survived\n",
    "\n",
    "p_sex_p_pclass_cond_survived = (p_sex_cond_survived * p_pclass_cond_survived).reorder_levels(['sex','pclass','survived']).sort_index()\n",
    "\n",
    "independence = p_sex_pclass_cond_survived - p_sex_p_pclass_cond_survived\n",
    "\n",
    "print(independence)"
   ]
  },
  {
   "cell_type": "code",
   "execution_count": 49,
   "id": "positive-musical",
   "metadata": {},
   "outputs": [
    {
     "name": "stdout",
     "output_type": "stream",
     "text": [
      "sex     pclass  survived\n",
      "female  1       0           3.746007\n",
      "                1           0.047812\n",
      "        2       0           0.961360\n",
      "                1           0.143993\n",
      "        3       0           0.257427\n",
      "                1           0.189471\n",
      "male    1       0           0.118295\n",
      "                1           0.127500\n",
      "        2       0           0.076909\n",
      "                1           0.609853\n",
      "        3       0           0.062617\n",
      "                1           0.264016\n",
      "dtype: float64\n"
     ]
    }
   ],
   "source": [
    "relative_independence = independence.abs()/p_sex_pclass_cond_survived\n",
    "print(relative_independence)"
   ]
  },
  {
   "cell_type": "markdown",
   "id": "verified-kitchen",
   "metadata": {},
   "source": [
    "__d) Implement a Naive bayes classifier using same features and compare it with a).__"
   ]
  },
  {
   "cell_type": "markdown",
   "id": "civilian-vessel",
   "metadata": {},
   "source": [
    "Please calculate the FPR and TPR as well as AUC and draw the ROC curve for train and test datasets. "
   ]
  },
  {
   "cell_type": "markdown",
   "id": "agreed-utility",
   "metadata": {},
   "source": [
    "We  have already calculated the probability "
   ]
  },
  {
   "cell_type": "markdown",
   "id": "quality-compromise",
   "metadata": {},
   "source": [
    "$$P_{NB}(sex,pclass|survived) = P(sex|survived)\\times P(pclass|survived)$$"
   ]
  },
  {
   "cell_type": "code",
   "execution_count": 50,
   "id": "searching-substance",
   "metadata": {},
   "outputs": [],
   "source": [
    "p_nb_sex_pclass_cond_survived = p_sex_p_pclass_cond_survived"
   ]
  },
  {
   "cell_type": "markdown",
   "id": "royal-county",
   "metadata": {},
   "source": [
    "From which we can calculate "
   ]
  },
  {
   "cell_type": "markdown",
   "id": "animated-bowling",
   "metadata": {},
   "source": [
    "$$P_{NB}(survived|sex,pclass)= \\frac{P_{NB}(sex,pclass|survived)P(survived)}{P_{NB}(sex,pclass)}$$"
   ]
  },
  {
   "cell_type": "code",
   "execution_count": 51,
   "id": "oriental-rebel",
   "metadata": {},
   "outputs": [],
   "source": [
    "p_nb_survived_cond_sex_pclass = (p_nb_sex_pclass_cond_survived * by_survived)"
   ]
  },
  {
   "cell_type": "markdown",
   "id": "prompt-european",
   "metadata": {},
   "source": [
    "where the denominator is also calculated from the factorised probabilities"
   ]
  },
  {
   "cell_type": "markdown",
   "id": "peripheral-pierre",
   "metadata": {},
   "source": [
    "$$P_{NB}(sex,pclass)= P_{NB}(sex,pclass|survived=1)P(survived=1)+P_{NB}(sex,pclass|survived=0)P(survived=0)$$"
   ]
  },
  {
   "cell_type": "code",
   "execution_count": 52,
   "id": "outside-revelation",
   "metadata": {},
   "outputs": [
    {
     "name": "stdout",
     "output_type": "stream",
     "text": [
      "sex     pclass  survived\n",
      "female  1       0           0.110801\n",
      "                1           0.889199\n",
      "        2       0           0.241410\n",
      "                1           0.758590\n",
      "        3       0           0.373005\n",
      "                1           0.626995\n",
      "male    1       0           0.622768\n",
      "                1           0.377232\n",
      "        2       0           0.808289\n",
      "                1           0.191711\n",
      "        3       0           0.887410\n",
      "                1           0.112590\n",
      "dtype: float64\n"
     ]
    }
   ],
   "source": [
    "p_survived = by_survived/counts.sum()\n",
    "\n",
    "p_nb_sex_pclass = p_nb_sex_pclass_cond_survived.loc[:,:,1] * p_survived[1] + p_nb_sex_pclass_cond_survived.loc[:,:,0] * p_survived[0]\n",
    "\n",
    "p_nb_survived_cond_sex_pclass = (p_nb_sex_pclass_cond_survived * p_survived)/p_nb_sex_pclass\n",
    "\n",
    "print(p_nb_survived_cond_sex_pclass)"
   ]
  },
  {
   "cell_type": "markdown",
   "id": "uniform-friendly",
   "metadata": {},
   "source": [
    "That is very important because the result must be a probability and add up to one"
   ]
  },
  {
   "cell_type": "markdown",
   "id": "technical-assessment",
   "metadata": {},
   "source": [
    "$$P_{NB}(survived=1|sex,pclass)+P_{NB}(survived=0|sex,pclass)=1$$"
   ]
  },
  {
   "cell_type": "markdown",
   "id": "material-rehabilitation",
   "metadata": {},
   "source": [
    "for each sex and passenger class. "
   ]
  },
  {
   "cell_type": "code",
   "execution_count": 53,
   "id": "sitting-paper",
   "metadata": {},
   "outputs": [
    {
     "name": "stdout",
     "output_type": "stream",
     "text": [
      "sex     pclass\n",
      "female  1         1.0\n",
      "        2         1.0\n",
      "        3         1.0\n",
      "male    1         1.0\n",
      "        2         1.0\n",
      "        3         1.0\n",
      "dtype: float64\n"
     ]
    }
   ],
   "source": [
    "print(p_nb_survived_cond_sex_pclass.sum(level=['sex','pclass']))"
   ]
  },
  {
   "cell_type": "code",
   "execution_count": 54,
   "id": "first-roller",
   "metadata": {},
   "outputs": [
    {
     "name": "stdout",
     "output_type": "stream",
     "text": [
      "Train data TPR:  0.6925  Test data TPR:  0.62\n",
      "Train data FPR:  0.14528593508500773  Test data FPR:  0.2037037037037037\n"
     ]
    },
    {
     "data": {
      "image/png": "[encoded data removed]",
      "text/plain": [
       "<Figure size 576x576 with 1 Axes>"
      ]
     },
     "metadata": {
      "needs_background": "light"
     },
     "output_type": "display_data"
    }
   ],
   "source": [
    "nb_c = p_nb_survived_cond_sex_pclass.loc[:,:,1]\n",
    "\n",
    "nb_train_TPR, nb_train_FPR = calcTPRandFPR(nb_c,counts)\n",
    "nb_test_TPR, nb_test_FPR = calcTPRandFPR(nb_c,test_counts)\n",
    "\n",
    "print(\"Train data TPR: \",nb_train_TPR,\" Test data TPR: \", nb_test_TPR)\n",
    "print(\"Train data FPR: \", nb_train_FPR,\" Test data FPR: \", nb_test_FPR)\n",
    "\n",
    "\n",
    "probabilities = np.array([nb_c.loc[(sex,pclass)] for sex, pclass in zip(data_selected['sex'], data_selected['pclass'])])\n",
    "\n",
    "fprs, tprs, thds = roc_curve(labels, probabilities);\n",
    "auc = roc_auc_score(labels, probabilities)\n",
    "\n",
    "fig, ax = roc_plot()\n",
    "\n",
    "roc = ax.plot(fprs,tprs);\n",
    "ax.fill_between(fprs,tprs,alpha=0.5);\n",
    "\n",
    "ax.set_title(\"Train data ROC curve\", fontsize=14);\n",
    "ax.plot([0,1],[0,1],'-', c='grey', linewidth = 1 )\n",
    "ax.plot([0,0,1],[0,1,1],'--', c = roc[0].get_color() , linewidth=0.5)\n",
    "roc_bayesian=ax.plot(bayesian_roc.get(\"fpr\"),bayesian_roc.get(\"tpr\"));\n",
    "#ax.scatter([0],[0],s = 30, c = roc[0].get_color() )\n",
    "ax.scatter([1],[1],s = 30)\n",
    "ax.scatter([0],[1],s = 30, edgecolor='blue', facecolor='white', zorder=5)\n",
    "\n",
    "ax.text(0.7, 0.3, \"AUC = %3.2f\"%(auc,), fontsize=16 );\n",
    "naive_bayesian_roc={\n",
    "    \"tpr\":tprs,\n",
    "    \"fpr\":fprs\n",
    "    \n",
    "}"
   ]
  },
  {
   "cell_type": "code",
   "execution_count": 55,
   "id": "988a68ec-46fd-4523-81db-abcab7dc0826",
   "metadata": {},
   "outputs": [
    {
     "data": {
      "image/png": "[encoded data removed]",
      "text/plain": [
       "<Figure size 576x576 with 1 Axes>"
      ]
     },
     "metadata": {
      "needs_background": "light"
     },
     "output_type": "display_data"
    }
   ],
   "source": [
    "test_probabilities = np.array([nb_c.loc[(sex,pclass)] for sex, pclass in zip(test_data_selected['sex'], test_data_selected['pclass'])])\n",
    "\n",
    "test_fprs, test_tprs, test_thds = roc_curve(test_labels, test_probabilities);\n",
    "test_auc = roc_auc_score(test_labels, test_probabilities)\n",
    "\n",
    "fig, ax = roc_plot()\n",
    "\n",
    "roc = ax.plot(test_fprs,test_tprs);\n",
    "ax.fill_between(test_fprs,test_tprs,alpha=0.5);\n",
    "\n",
    "ax.set_title(\"Test data ROC curve\", fontsize=14);\n",
    "ax.plot([0,1],[0,1],'-', c='grey', linewidth = 1 )\n",
    "ax.plot([0,0,1],[0,1,1],'--', c = roc[0].get_color() , linewidth=0.5)\n",
    "test_roc_bayesian=ax.plot(test_bayesian_roc.get(\"fpr\"),test_bayesian_roc.get(\"tpr\"));\n",
    "#ax.scatter([0],[0],s = 30, c = roc[0].get_color() )\n",
    "ax.scatter([1],[1],s = 30)\n",
    "ax.scatter([0],[1],s = 30, edgecolor='blue', facecolor='white', zorder=5)\n",
    "\n",
    "ax.text(0.7, 0.3, \"AUC = %3.2f\"%(auc,), fontsize=16 );\n",
    "test_naive_bayesian_roc={\n",
    "    \"tpr\":test_tprs,\n",
    "    \"fpr\":test_fprs\n",
    "    \n",
    "}"
   ]
  },
  {
   "cell_type": "markdown",
   "id": "bacterial-patrick",
   "metadata": {},
   "source": [
    "## Problem 2"
   ]
  },
  {
   "cell_type": "markdown",
   "id": "sticky-newcastle",
   "metadata": {},
   "source": [
    "##### Add age as a feature and implement naive bayes classifier. "
   ]
  },
  {
   "cell_type": "markdown",
   "id": "romance-visit",
   "metadata": {},
   "source": [
    "Compute the FPR, TPR and AUC as well as draw the ROC curve. "
   ]
  },
  {
   "cell_type": "markdown",
   "id": "altered-details",
   "metadata": {},
   "source": [
    "#### Hint: \n",
    "Consider using it as a categorical variable"
   ]
  },
  {
   "cell_type": "markdown",
   "id": "normal-closer",
   "metadata": {},
   "source": [
    "We start by constructning a new dataframe with age added:"
   ]
  },
  {
   "cell_type": "code",
   "execution_count": 56,
   "id": "boring-performance",
   "metadata": {},
   "outputs": [],
   "source": [
    "data_with_age = data_selected.copy()"
   ]
  },
  {
   "cell_type": "code",
   "execution_count": 57,
   "id": "handled-communist",
   "metadata": {},
   "outputs": [],
   "source": [
    "data_with_age['age'] = data['age']"
   ]
  },
  {
   "cell_type": "markdown",
   "id": "hollow-apollo",
   "metadata": {},
   "source": [
    "###  Missing values ! :( "
   ]
  },
  {
   "cell_type": "markdown",
   "id": "radical-imagination",
   "metadata": {},
   "source": [
    "Unfortunatelly there is a problem. Not all passengers have their age assigned, as we can check by inspecting the dataframe:"
   ]
  },
  {
   "cell_type": "code",
   "execution_count": 58,
   "id": "genuine-translator",
   "metadata": {},
   "outputs": [
    {
     "name": "stdout",
     "output_type": "stream",
     "text": [
      "<class 'pandas.core.frame.DataFrame'>\n",
      "Int64Index: 1047 entries, 207 to 1206\n",
      "Data columns (total 4 columns):\n",
      " #   Column    Non-Null Count  Dtype  \n",
      "---  ------    --------------  -----  \n",
      " 0   pclass    1047 non-null   int64  \n",
      " 1   sex       1047 non-null   object \n",
      " 2   survived  1047 non-null   int64  \n",
      " 3   age       845 non-null    float64\n",
      "dtypes: float64(1), int64(2), object(1)\n",
      "memory usage: 40.9+ KB\n"
     ]
    }
   ],
   "source": [
    "data_with_age.info()"
   ]
  },
  {
   "cell_type": "markdown",
   "id": "amber-assignment",
   "metadata": {},
   "source": [
    "We can see that there are only 1046 non-null entries for 'age'. We can do it also directly by using the `isna` methods"
   ]
  },
  {
   "cell_type": "code",
   "execution_count": 59,
   "id": "united-unknown",
   "metadata": {},
   "outputs": [
    {
     "data": {
      "text/plain": [
       "202"
      ]
     },
     "execution_count": 59,
     "metadata": {},
     "output_type": "execute_result"
    }
   ],
   "source": [
    "data['age'].isna().sum()"
   ]
  },
  {
   "cell_type": "markdown",
   "id": "beginning-times",
   "metadata": {},
   "source": [
    "This problem is unfortunatelly very common in data science and machine learning. I will present here several  methods of dealing with this problem."
   ]
  },
  {
   "cell_type": "markdown",
   "id": "characteristic-evanescence",
   "metadata": {},
   "source": [
    "First solution is to ignore the missing data _i.e._ delete all rows with missing entries. This can be easilly achieved  using `pandas.DataFrame.dropna` method:"
   ]
  },
  {
   "cell_type": "code",
   "execution_count": 60,
   "id": "asian-notion",
   "metadata": {},
   "outputs": [],
   "source": [
    "data_with_age_cleaned = data_with_age.dropna()"
   ]
  },
  {
   "cell_type": "code",
   "execution_count": 61,
   "id": "unique-rachel",
   "metadata": {},
   "outputs": [
    {
     "name": "stdout",
     "output_type": "stream",
     "text": [
      "<class 'pandas.core.frame.DataFrame'>\n",
      "Int64Index: 845 entries, 207 to 1206\n",
      "Data columns (total 4 columns):\n",
      " #   Column    Non-Null Count  Dtype  \n",
      "---  ------    --------------  -----  \n",
      " 0   pclass    845 non-null    int64  \n",
      " 1   sex       845 non-null    object \n",
      " 2   survived  845 non-null    int64  \n",
      " 3   age       845 non-null    float64\n",
      "dtypes: float64(1), int64(2), object(1)\n",
      "memory usage: 33.0+ KB\n"
     ]
    }
   ],
   "source": [
    "data_with_age_cleaned.info()"
   ]
  },
  {
   "cell_type": "markdown",
   "id": "small-produce",
   "metadata": {},
   "source": [
    "Second method is to fill in the missing values. A good choice would be the  average age (or median)"
   ]
  },
  {
   "cell_type": "code",
   "execution_count": 62,
   "id": "empirical-copying",
   "metadata": {},
   "outputs": [
    {
     "data": {
      "text/plain": [
       "30.152169585798816"
      ]
     },
     "execution_count": 62,
     "metadata": {},
     "output_type": "execute_result"
    }
   ],
   "source": [
    "data_with_age_cleaned.age.mean()"
   ]
  },
  {
   "cell_type": "code",
   "execution_count": 63,
   "id": "tutorial-prairie",
   "metadata": {},
   "outputs": [],
   "source": [
    "data_with_age_filled = data_with_age.fillna(data_with_age.age.median())"
   ]
  },
  {
   "cell_type": "markdown",
   "id": "dangerous-liabilities",
   "metadata": {},
   "source": [
    "The statistical functions conveniently just disregard the missing data. "
   ]
  },
  {
   "cell_type": "code",
   "execution_count": 64,
   "id": "weird-duration",
   "metadata": {},
   "outputs": [
    {
     "name": "stdout",
     "output_type": "stream",
     "text": [
      "<class 'pandas.core.frame.DataFrame'>\n",
      "Int64Index: 1047 entries, 207 to 1206\n",
      "Data columns (total 4 columns):\n",
      " #   Column    Non-Null Count  Dtype  \n",
      "---  ------    --------------  -----  \n",
      " 0   pclass    1047 non-null   int64  \n",
      " 1   sex       1047 non-null   object \n",
      " 2   survived  1047 non-null   int64  \n",
      " 3   age       1047 non-null   float64\n",
      "dtypes: float64(1), int64(2), object(1)\n",
      "memory usage: 40.9+ KB\n"
     ]
    }
   ],
   "source": [
    "data_with_age_filled.info()"
   ]
  },
  {
   "cell_type": "code",
   "execution_count": 65,
   "id": "accurate-intention",
   "metadata": {},
   "outputs": [
    {
     "data": {
      "text/plain": [
       "29.736946800382043"
      ]
     },
     "execution_count": 65,
     "metadata": {},
     "output_type": "execute_result"
    }
   ],
   "source": [
    "data_with_age_filled.age.mean()"
   ]
  },
  {
   "cell_type": "markdown",
   "id": "fabulous-galaxy",
   "metadata": {},
   "source": [
    "A more \"sophisticated\" method would be to will the missing values based on the group statistics e.g. average age of persons with same sex and pclass. That can be achieved using `groupby`, and `apply` methods. We could do it in one line, but I will rather do it step by step. "
   ]
  },
  {
   "cell_type": "markdown",
   "id": "atomic-dodge",
   "metadata": {},
   "source": [
    "We start by grouping  data by sex and pclass. We do not group by survived, those are the labels and after training we would not have access to them. "
   ]
  },
  {
   "cell_type": "code",
   "execution_count": 66,
   "id": "burning-breathing",
   "metadata": {},
   "outputs": [],
   "source": [
    "grouped = data_with_age.groupby(['sex', 'pclass'])"
   ]
  },
  {
   "cell_type": "markdown",
   "id": "premium-advocate",
   "metadata": {},
   "source": [
    "Now we would like to take each group, calculate the mean age, and use it to fill the 'na\" values in the group. This can be achieved using the `apply` method"
   ]
  },
  {
   "cell_type": "code",
   "execution_count": 67,
   "id": "valuable-rachel",
   "metadata": {},
   "outputs": [],
   "source": [
    "data_with_age_group_filled = grouped.apply(\n",
    "    lambda g: g.fillna({'age':g.age.mean()})\n",
    "                        )"
   ]
  },
  {
   "cell_type": "markdown",
   "id": "actual-circus",
   "metadata": {},
   "source": [
    "The `apply` method takes a function as argument. This functions expects a DataFrame and returs a DataFrame. The groups are passed one by one to this function and the results are assempled together back into the resulting  dataframe."
   ]
  },
  {
   "cell_type": "code",
   "execution_count": 68,
   "id": "pressing-ticket",
   "metadata": {},
   "outputs": [
    {
     "name": "stdout",
     "output_type": "stream",
     "text": [
      "<class 'pandas.core.frame.DataFrame'>\n",
      "MultiIndex: 1047 entries, ('female', 1, 207) to ('male', 3, 1206)\n",
      "Data columns (total 4 columns):\n",
      " #   Column    Non-Null Count  Dtype  \n",
      "---  ------    --------------  -----  \n",
      " 0   pclass    1047 non-null   int64  \n",
      " 1   sex       1047 non-null   object \n",
      " 2   survived  1047 non-null   int64  \n",
      " 3   age       1047 non-null   float64\n",
      "dtypes: float64(1), int64(2), object(1)\n",
      "memory usage: 77.4+ KB\n"
     ]
    }
   ],
   "source": [
    "data_with_age_group_filled.info()"
   ]
  },
  {
   "cell_type": "code",
   "execution_count": 69,
   "id": "given-battery",
   "metadata": {},
   "outputs": [
    {
     "data": {
      "text/plain": [
       "29.59462618547685"
      ]
     },
     "execution_count": 69,
     "metadata": {},
     "output_type": "execute_result"
    }
   ],
   "source": [
    "data_with_age_group_filled.age.mean()"
   ]
  },
  {
   "cell_type": "markdown",
   "id": "robust-corporation",
   "metadata": {},
   "source": [
    "The last method would be to treat the missing data as separate age category. "
   ]
  },
  {
   "cell_type": "markdown",
   "id": "distinct-portrait",
   "metadata": {},
   "source": [
    "Now we will divide age into categories. Just for fun I will define a function that returns a categorizing function"
   ]
  },
  {
   "cell_type": "code",
   "execution_count": 70,
   "id": "dried-ceramic",
   "metadata": {},
   "outputs": [],
   "source": [
    "def make_age_categorizer(limits, lbls):\n",
    "    def categorizer(age):\n",
    "        if not pd.isna(age):\n",
    "            for i,l in enumerate(limits):\n",
    "                if age<=l:\n",
    "                    return lbls[i]\n",
    "            return lbls[-1]    \n",
    "        else:\n",
    "            return 'unc'\n",
    "\n",
    "    return categorizer\n",
    "    "
   ]
  },
  {
   "cell_type": "markdown",
   "id": "literary-mumbai",
   "metadata": {},
   "source": [
    "Somewhat arbitrarly I will classify all younger then 12 years as children, between 12 and 60 as adults and older as seniors"
   ]
  },
  {
   "cell_type": "code",
   "execution_count": 71,
   "id": "textile-construction",
   "metadata": {},
   "outputs": [],
   "source": [
    "ctg = make_age_categorizer([12,60],['child','adult','senior'])"
   ]
  },
  {
   "cell_type": "markdown",
   "id": "unlikely-spiritual",
   "metadata": {},
   "source": [
    "We can use the `cgt` function to add new column containing age categories to dataframe"
   ]
  },
  {
   "cell_type": "code",
   "execution_count": 72,
   "id": "athletic-editor",
   "metadata": {},
   "outputs": [],
   "source": [
    "data_with_age['age_category']=data_with_age.age.apply(ctg)"
   ]
  },
  {
   "cell_type": "markdown",
   "id": "guilty-salmon",
   "metadata": {},
   "source": [
    "and group it by all categories"
   ]
  },
  {
   "cell_type": "code",
   "execution_count": 73,
   "id": "intermediate-receptor",
   "metadata": {},
   "outputs": [],
   "source": [
    "counts_with_age = data_with_age.groupby( ['survived', 'sex', 'pclass', 'age_category']).size()"
   ]
  },
  {
   "cell_type": "code",
   "execution_count": 74,
   "id": "ultimate-reading",
   "metadata": {},
   "outputs": [
    {
     "data": {
      "text/plain": [
       "survived  sex     pclass  age_category\n",
       "0         female  1       adult             2\n",
       "                          child             1\n",
       "                  2       adult             9\n",
       "                          unc               1\n",
       "                  3       adult            47\n",
       "                          child            10\n",
       "                          unc              24\n",
       "          male    1       adult            69\n",
       "                          senior           13\n",
       "                          unc              13\n",
       "                  2       adult           109\n",
       "                          senior            5\n",
       "                          unc              11\n",
       "                  3       adult           213\n",
       "                          child            20\n",
       "                          senior            4\n",
       "                          unc              96\n",
       "1         female  1       adult           107\n",
       "                          senior            4\n",
       "                          unc               9\n",
       "                  2       adult            63\n",
       "                          child             8\n",
       "                          unc               1\n",
       "                  3       adult            44\n",
       "                          child            13\n",
       "                          senior            1\n",
       "                          unc              27\n",
       "          male    1       adult            35\n",
       "                          child             3\n",
       "                          unc               7\n",
       "                  2       adult             7\n",
       "                          child             9\n",
       "                          unc               1\n",
       "                  3       adult            39\n",
       "                          child            10\n",
       "                          unc              12\n",
       "dtype: int64"
      ]
     },
     "execution_count": 74,
     "metadata": {},
     "output_type": "execute_result"
    }
   ],
   "source": [
    "counts_with_age"
   ]
  },
  {
   "cell_type": "markdown",
   "id": "universal-saskatchewan",
   "metadata": {},
   "source": [
    "From now on we can proceed as before"
   ]
  },
  {
   "cell_type": "markdown",
   "id": "hollywood-error",
   "metadata": {},
   "source": [
    "\n",
    "$$P_{NB}(sex,pclass,age|survived) = P(sex|survived)\\times P(pclass|survived)\\times P(age|survived)$$"
   ]
  },
  {
   "cell_type": "code",
   "execution_count": 75,
   "id": "disciplinary-glenn",
   "metadata": {},
   "outputs": [],
   "source": [
    "\n",
    "\n",
    "by_survived = counts_with_age.sum(level=['survived'])\n",
    "\n",
    "p_age_cond_survived = counts_with_age.sum(level=['age_category','survived'])/by_survived\n",
    "\n",
    "p_nb_sex_pclass_age_cond_survived = p_nb_sex_pclass_cond_survived * p_age_cond_survived\n",
    "\n",
    "p_nb_sex_pclass_age_cond_survived = p_nb_sex_pclass_age_cond_survived.reorder_levels(['sex','pclass','age_category','survived']).sort_index()\n",
    "\n"
   ]
  },
  {
   "cell_type": "markdown",
   "id": "right-proceeding",
   "metadata": {},
   "source": [
    "\n",
    "\n",
    "and then calculate:\n",
    "$$P_{NB}(survived|sex,pclass,age)= \\frac{P_{NB}(sex,pclass,age|survived)P(survived)}{P_{NB}(sex,pclass,age)}$$\n",
    "\n",
    "knowing that:\n",
    "$$P_{NB}(sex,pclass,age)= P_{NB}(sex,pclass,age|survived=1)P(survived=1)+P_{NB}(sex,pclass,age|survived=0)P(survived=0)$$\n"
   ]
  },
  {
   "cell_type": "code",
   "execution_count": 76,
   "id": "quantitative-shark",
   "metadata": {},
   "outputs": [
    {
     "name": "stdout",
     "output_type": "stream",
     "text": [
      "sex     pclass  age_category\n",
      "female  1       adult           0.089923\n",
      "                child           0.012383\n",
      "                senior          0.001827\n",
      "                unc             0.018599\n",
      "        2       adult           0.056414\n",
      "                child           0.007226\n",
      "                senior          0.001373\n",
      "                unc             0.012587\n",
      "        3       adult           0.111085\n",
      "                child           0.013133\n",
      "                senior          0.003160\n",
      "                unc             0.026636\n",
      "male    1       adult           0.091258\n",
      "                child           0.009043\n",
      "                senior          0.003326\n",
      "                unc             0.024835\n",
      "        2       adult           0.095758\n",
      "                child           0.008090\n",
      "                senior          0.004074\n",
      "                unc             0.028423\n",
      "        3       adult           0.266164\n",
      "                child           0.020803\n",
      "                senior          0.012028\n",
      "                unc             0.081853\n",
      "dtype: float64\n"
     ]
    }
   ],
   "source": [
    "p_survived = by_survived/counts_with_age.sum()\n",
    "\n",
    "p_nb_sex_pclass_age = p_nb_sex_pclass_age_cond_survived.loc[:,:,:,1] * p_survived[1] + p_nb_sex_pclass_age_cond_survived.loc[:,:,:,0] * p_survived[0]\n",
    "\n",
    "print(p_nb_sex_pclass_age)\n",
    "\n",
    "p_nb_survived_cond_sex_pclass_age = (p_nb_sex_pclass_age_cond_survived * p_survived)/p_nb_sex_pclass_age"
   ]
  },
  {
   "cell_type": "code",
   "execution_count": 77,
   "id": "aerial-binary",
   "metadata": {},
   "outputs": [
    {
     "data": {
      "text/plain": [
       "sex     pclass  age_category\n",
       "female  1       adult           1.0\n",
       "                child           1.0\n",
       "                senior          1.0\n",
       "                unc             1.0\n",
       "        2       adult           1.0\n",
       "                child           1.0\n",
       "                senior          1.0\n",
       "                unc             1.0\n",
       "        3       adult           1.0\n",
       "                child           1.0\n",
       "                senior          1.0\n",
       "                unc             1.0\n",
       "male    1       adult           1.0\n",
       "                child           1.0\n",
       "                senior          1.0\n",
       "                unc             1.0\n",
       "        2       adult           1.0\n",
       "                child           1.0\n",
       "                senior          1.0\n",
       "                unc             1.0\n",
       "        3       adult           1.0\n",
       "                child           1.0\n",
       "                senior          1.0\n",
       "                unc             1.0\n",
       "dtype: float64"
      ]
     },
     "execution_count": 77,
     "metadata": {},
     "output_type": "execute_result"
    }
   ],
   "source": [
    "\n",
    "\n",
    "p_nb_survived_cond_sex_pclass_age.sum(level=['sex','pclass','age_category'])\n",
    "\n"
   ]
  },
  {
   "cell_type": "code",
   "execution_count": 78,
   "id": "sharp-forest",
   "metadata": {},
   "outputs": [],
   "source": [
    "def calcTprAndFprWithAge(classifier, counts):\n",
    "    TP=0\n",
    "    FP=0\n",
    "    TN=0\n",
    "    FN=0\n",
    "    \n",
    "    for survived, sex, pclass,age_category in counts.index:\n",
    "        if classifier.loc[(sex,pclass,age_category)]>=0.5:\n",
    "            if(survived==1):\n",
    "                TP+=counts.loc[(1,sex,pclass,age_category)]\n",
    "            else:\n",
    "                FP+=counts.loc[(0,sex,pclass,age_category)]\n",
    "        else:\n",
    "            if(survived==0):\n",
    "                TN+=counts.loc[(0,sex,pclass,age_category)]\n",
    "            else:\n",
    "                FN+=counts.loc[(1,sex,pclass,age_category)]\n",
    "    \n",
    "    TPR = TP/counts.loc[1].sum()\n",
    "    FPR = FP/counts.loc[0].sum()\n",
    "\n",
    "    return TPR,FPR"
   ]
  },
  {
   "cell_type": "code",
   "execution_count": 79,
   "id": "searching-values",
   "metadata": {},
   "outputs": [],
   "source": [
    "nb_c = p_nb_survived_cond_sex_pclass_age.loc[:,:,:,1]"
   ]
  },
  {
   "cell_type": "code",
   "execution_count": 80,
   "id": "surprising-frontier",
   "metadata": {},
   "outputs": [
    {
     "name": "stdout",
     "output_type": "stream",
     "text": [
      "0.6975 0.14528593508500773\n"
     ]
    }
   ],
   "source": [
    "nb_TPR, nb_FPR = calcTprAndFprWithAge(nb_c,counts_with_age)\n",
    "print(nb_TPR, nb_FPR)"
   ]
  },
  {
   "cell_type": "code",
   "execution_count": 81,
   "id": "coordinated-rescue",
   "metadata": {},
   "outputs": [],
   "source": [
    "labels = np.array(data_with_age.survived)\n",
    "probabilities = np.array([nb_c.loc[(sex,pclass,age_category)] for sex, pclass, age_category in zip(data_with_age['sex'], data_with_age['pclass'], data_with_age['age_category'])])"
   ]
  },
  {
   "cell_type": "code",
   "execution_count": 82,
   "id": "polar-scientist",
   "metadata": {},
   "outputs": [
    {
     "data": {
      "image/png": "[encoded data removed]",
      "text/plain": [
       "<Figure size 576x576 with 1 Axes>"
      ]
     },
     "metadata": {
      "needs_background": "light"
     },
     "output_type": "display_data"
    }
   ],
   "source": [
    "fprs, tprs, thds = roc_curve(labels, probabilities);\n",
    "auc = roc_auc_score(labels, probabilities)\n",
    "\n",
    "fig, ax = roc_plot()\n",
    "\n",
    "roc_with_age = ax.plot(fprs,tprs);\n",
    "ax.fill_between(fprs,tprs,alpha=0.5);\n",
    "ax.set_title(\"ROC curve\", fontsize=14);\n",
    "ax.plot([0,1],[0,1],'-', c='grey', linewidth = 1 )\n",
    "ax.plot([0,0,1],[0,1,1],'--', c = roc_with_age[0].get_color() , linewidth=0.5)\n",
    "ax.scatter([0],[0],s = 30, c = roc_with_age[0].get_color() )\n",
    "ax.scatter([1],[1],s = 30)\n",
    "ax.scatter([0],[1],s = 30, edgecolor='blue', facecolor='white', zorder=5)\n",
    "\n",
    "ax.text(0.7, 0.3, \"AUC = %3.2f\"%(auc,), fontsize=16 );"
   ]
  },
  {
   "cell_type": "code",
   "execution_count": 83,
   "id": "fiscal-raleigh",
   "metadata": {},
   "outputs": [
    {
     "data": {
      "image/png": "[encoded data removed]",
      "text/plain": [
       "<Figure size 576x576 with 1 Axes>"
      ]
     },
     "metadata": {
      "needs_background": "light"
     },
     "output_type": "display_data"
    }
   ],
   "source": [
    "\n",
    "\n",
    "fprs, tprs, thds = roc_curve(labels, probabilities);\n",
    "auc = roc_auc_score(labels, probabilities)\n",
    "\n",
    "fig, ax = roc_plot()\n",
    "\n",
    "roc_with_age = ax.plot(fprs,tprs);\n",
    "roc_bayesian=ax.plot(bayesian_roc.get(\"fpr\"),bayesian_roc.get(\"tpr\"));\n",
    "roc_naive_bayesian=ax.plot(naive_bayesian_roc.get(\"fpr\"),naive_bayesian_roc.get(\"tpr\"));\n",
    "\n",
    "\n"
   ]
  },
  {
   "cell_type": "code",
   "execution_count": null,
   "id": "empty-glass",
   "metadata": {},
   "outputs": [],
   "source": []
  }
 ],
 "metadata": {
  "jupytext": {
   "text_representation": {
    "extension": ".Rmd",
    "format_name": "rmarkdown",
    "format_version": "1.2",
    "jupytext_version": "1.11.1"
   }
  },
  "kernelspec": {
   "display_name": "Python 3",
   "language": "python",
   "name": "python3"
  },
  "language_info": {
   "codemirror_mode": {
    "name": "ipython",
    "version": 3
   },
   "file_extension": ".py",
   "mimetype": "text/x-python",
   "name": "python",
   "nbconvert_exporter": "python",
   "pygments_lexer": "ipython3",
   "version": "3.9.4"
  }
 },
 "nbformat": 4,
 "nbformat_minor": 5
}
