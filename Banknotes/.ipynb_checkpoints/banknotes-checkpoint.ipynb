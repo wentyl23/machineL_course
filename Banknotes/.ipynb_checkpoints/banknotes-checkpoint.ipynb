{
 "cells": [
  {
   "cell_type": "markdown",
   "metadata": {},
   "source": [
    "# Counterfeit detection"
   ]
  },
  {
   "cell_type": "markdown",
   "metadata": {},
   "source": [
    "The task in this assignment is to detect the  counterfeit banknotes. The data set is based on [banknote authentication Data Set ](https://archive.ics.uci.edu/ml/datasets/banknote+authentication#) from UCI Machine Learning repository. The first three columns denote different parameters obtained from the photographs of the banknotes and last colum provides the label. Frankly as the dataset does not have any description I don't know  which labels corresponds to real and which to counterfeited banknotes. let's assume that label one (positive) denotes the clounterfeits. The set  \"banknote_authentication.csv\" can be found in the data  directory."
   ]
  },
  {
   "cell_type": "code",
   "execution_count": 1,
   "metadata": {},
   "outputs": [
    {
     "name": "stderr",
     "output_type": "stream",
     "text": [
      "C:\\Users\\robi2\\anaconda3\\envs\\machinelearning\\lib\\site-packages\\papermill\\iorw.py:50: FutureWarning: pyarrow.HadoopFileSystem is deprecated as of 2.0.0, please use pyarrow.fs.HadoopFileSystem instead.\n",
      "  from pyarrow import HadoopFileSystem\n"
     ]
    }
   ],
   "source": [
    "import pandas as pd\n",
    "import numpy as np\n",
    "import matplotlib.pyplot as plt\n",
    "import scipy.stats as st\n",
    "import scrapbook as sb"
   ]
  },
  {
   "cell_type": "code",
   "execution_count": 2,
   "metadata": {},
   "outputs": [
    {
     "data": {
      "application/scrapbook.scrap.json+json": {
       "data": [
        "Mikolaj",
        "Mentel"
       ],
       "encoder": "json",
       "name": "person1",
       "version": 1
      }
     },
     "metadata": {
      "scrapbook": {
       "data": true,
       "display": false,
       "name": "person1"
      }
     },
     "output_type": "display_data"
    },
    {
     "data": {
      "text/plain": [
       "['Mikolaj', 'Mentel']"
      ]
     },
     "metadata": {
      "scrapbook": {
       "data": false,
       "display": true,
       "name": "person1"
      }
     },
     "output_type": "display_data"
    },
    {
     "data": {
      "application/scrapbook.scrap.json+json": {
       "data": [
        "Zuzanna",
        "Miarzynska"
       ],
       "encoder": "json",
       "name": "person2",
       "version": 1
      }
     },
     "metadata": {
      "scrapbook": {
       "data": true,
       "display": false,
       "name": "person2"
      }
     },
     "output_type": "display_data"
    }
   ],
   "source": [
    "sb.glue('person1',['Mikolaj', 'Mentel'], display=True)\n",
    "# In case of the two-person team add second persons\n",
    "sb.glue('person2',['Zuzanna', 'Miarzynska'])"
   ]
  },
  {
   "cell_type": "code",
   "execution_count": 3,
   "metadata": {},
   "outputs": [],
   "source": [
    "data = pd.read_csv('data/banknote_authentication.csv')"
   ]
  },
  {
   "cell_type": "code",
   "execution_count": 4,
   "metadata": {},
   "outputs": [
    {
     "data": {
      "text/html": [
       "<div>\n",
       "<style scoped>\n",
       "    .dataframe tbody tr th:only-of-type {\n",
       "        vertical-align: middle;\n",
       "    }\n",
       "\n",
       "    .dataframe tbody tr th {\n",
       "        vertical-align: top;\n",
       "    }\n",
       "\n",
       "    .dataframe thead th {\n",
       "        text-align: right;\n",
       "    }\n",
       "</style>\n",
       "<table border=\"1\" class=\"dataframe\">\n",
       "  <thead>\n",
       "    <tr style=\"text-align: right;\">\n",
       "      <th></th>\n",
       "      <th>a1</th>\n",
       "      <th>a2</th>\n",
       "      <th>a3</th>\n",
       "      <th>counterfeit</th>\n",
       "    </tr>\n",
       "  </thead>\n",
       "  <tbody>\n",
       "    <tr>\n",
       "      <th>0</th>\n",
       "      <td>12.3784</td>\n",
       "      <td>0.70403</td>\n",
       "      <td>-7.58360</td>\n",
       "      <td>0</td>\n",
       "    </tr>\n",
       "    <tr>\n",
       "      <th>1</th>\n",
       "      <td>8.1881</td>\n",
       "      <td>-3.13380</td>\n",
       "      <td>-2.52760</td>\n",
       "      <td>0</td>\n",
       "    </tr>\n",
       "    <tr>\n",
       "      <th>2</th>\n",
       "      <td>-10.8679</td>\n",
       "      <td>9.49260</td>\n",
       "      <td>-1.41160</td>\n",
       "      <td>1</td>\n",
       "    </tr>\n",
       "    <tr>\n",
       "      <th>3</th>\n",
       "      <td>-8.7903</td>\n",
       "      <td>7.97350</td>\n",
       "      <td>-0.45475</td>\n",
       "      <td>1</td>\n",
       "    </tr>\n",
       "    <tr>\n",
       "      <th>4</th>\n",
       "      <td>-5.5167</td>\n",
       "      <td>10.93900</td>\n",
       "      <td>-0.40820</td>\n",
       "      <td>1</td>\n",
       "    </tr>\n",
       "  </tbody>\n",
       "</table>\n",
       "</div>"
      ],
      "text/plain": [
       "        a1        a2       a3  counterfeit\n",
       "0  12.3784   0.70403 -7.58360            0\n",
       "1   8.1881  -3.13380 -2.52760            0\n",
       "2 -10.8679   9.49260 -1.41160            1\n",
       "3  -8.7903   7.97350 -0.45475            1\n",
       "4  -5.5167  10.93900 -0.40820            1"
      ]
     },
     "execution_count": 4,
     "metadata": {},
     "output_type": "execute_result"
    }
   ],
   "source": [
    "data.head()"
   ]
  },
  {
   "cell_type": "markdown",
   "metadata": {},
   "source": [
    "## Problem "
   ]
  },
  {
   "cell_type": "markdown",
   "metadata": {},
   "source": [
    "### A."
   ]
  },
  {
   "cell_type": "markdown",
   "metadata": {},
   "source": [
    "Perform the Quadratic Discriminant Analysis on this set. Calculate the confusion matrix, AUC score and plot the ROC curve. Please use `scrapbook` to store your results. "
   ]
  },
  {
   "cell_type": "code",
   "execution_count": 5,
   "metadata": {},
   "outputs": [],
   "source": [
    "from sklearn.discriminant_analysis import QuadraticDiscriminantAnalysis\n",
    "from sklearn.model_selection import train_test_split\n",
    "from sklearn.metrics import roc_curve, roc_auc_score, precision_score, f1_score, confusion_matrix"
   ]
  },
  {
   "cell_type": "code",
   "execution_count": 6,
   "metadata": {},
   "outputs": [
    {
     "data": {
      "text/plain": [
       "QuadraticDiscriminantAnalysis()"
      ]
     },
     "execution_count": 6,
     "metadata": {},
     "output_type": "execute_result"
    }
   ],
   "source": [
    "seed = 4343\n",
    "data_train, data_test = train_test_split(data,test_size=0.2, stratify = data['counterfeit'], random_state = seed)\n",
    "\n",
    "qda = QuadraticDiscriminantAnalysis()\n",
    "qda.fit(data_train.loc[:,'a1':'a3'], data_train['counterfeit'])"
   ]
  },
  {
   "cell_type": "code",
   "execution_count": 7,
   "metadata": {},
   "outputs": [],
   "source": [
    "test_proba = qda.predict_proba(data_test.loc[:,'a1':'a3'])[:,1]"
   ]
  },
  {
   "cell_type": "code",
   "execution_count": 8,
   "metadata": {},
   "outputs": [],
   "source": [
    "tnr, fpr, fnr, tpr = confusion_matrix(data_test['counterfeit'], test_proba>0.5,normalize = 'true').ravel()"
   ]
  },
  {
   "cell_type": "code",
   "execution_count": 9,
   "metadata": {},
   "outputs": [],
   "source": [
    "f1 = f1_score(data_test['counterfeit'], test_proba>0.5)\n",
    "precision = precision_score(data_test['counterfeit'], test_proba>0.5)"
   ]
  },
  {
   "cell_type": "code",
   "execution_count": 10,
   "metadata": {},
   "outputs": [],
   "source": [
    "auc = roc_auc_score(data_test['counterfeit'], test_proba)\n",
    "fprs, tprs, thds = roc_curve(data_test['counterfeit'], test_proba)"
   ]
  },
  {
   "cell_type": "code",
   "execution_count": 11,
   "metadata": {},
   "outputs": [],
   "source": [
    "#sb.glue('A_scores',['tnr', 'fpr', 'fnr', 'tpr', 'precision', 'f1', 'auc'], display=True)"
   ]
  },
  {
   "cell_type": "code",
   "execution_count": 12,
   "metadata": {},
   "outputs": [
    {
     "data": {
      "application/scrapbook.scrap.json+json": {
       "data": [
        0.8770491803278688,
        0.12295081967213115,
        0.19387755102040816,
        0.8061224489795918,
        0.8404255319148937,
        0.8229166666666666,
        0.917447306791569
       ],
       "encoder": "json",
       "name": "A_scores",
       "version": 1
      }
     },
     "metadata": {
      "scrapbook": {
       "data": true,
       "display": false,
       "name": "A_scores"
      }
     },
     "output_type": "display_data"
    },
    {
     "data": {
      "text/plain": [
       "[0.8770491803278688,\n",
       " 0.12295081967213115,\n",
       " 0.19387755102040816,\n",
       " 0.8061224489795918,\n",
       " 0.8404255319148937,\n",
       " 0.8229166666666666,\n",
       " 0.917447306791569]"
      ]
     },
     "metadata": {
      "scrapbook": {
       "data": false,
       "display": true,
       "name": "A_scores"
      }
     },
     "output_type": "display_data"
    }
   ],
   "source": [
    "sb.glue('A_scores',[tnr, fpr, fnr, tpr, precision, f1, auc], display=True)"
   ]
  },
  {
   "cell_type": "markdown",
   "metadata": {},
   "source": [
    "also please save the ROC plot"
   ]
  },
  {
   "cell_type": "code",
   "execution_count": 13,
   "metadata": {},
   "outputs": [
    {
     "data": {
      "image/png": "[encoded data removed]",
      "text/plain": [
       "<Figure size 432x288 with 1 Axes>"
      ]
     },
     "metadata": {
      "needs_background": "light"
     },
     "output_type": "display_data"
    }
   ],
   "source": [
    "fig, ax = plt.subplots()\n",
    "#plot ROC\n",
    "ax.set_aspect(1)\n",
    "ax.plot([0, 1], [0, 1], linewidth=1, linestyle='--', color='grey')\n",
    "ax.plot(fprs, tprs, label=\"{1:5.3f} {0:s} \".format('qda', auc));\n",
    "ax.legend(title='AUC');\n",
    "sb.glue('A_ROC',fig, \"display\", display=False);"
   ]
  },
  {
   "cell_type": "code",
   "execution_count": null,
   "metadata": {},
   "outputs": [],
   "source": []
  },
  {
   "cell_type": "markdown",
   "metadata": {},
   "source": [
    "### B."
   ]
  },
  {
   "cell_type": "markdown",
   "metadata": {},
   "source": [
    "Perform Gaussian Mixture Discriminant Analysis on this set as described in the `gaussian_mixture_model_EM_algorithm` notebook. Use two components for positives and two components for negatives. Calculate the confusion matrix, AUC score and plot the ROC curve. "
   ]
  },
  {
   "cell_type": "code",
   "execution_count": 14,
   "metadata": {},
   "outputs": [],
   "source": [
    "from sklearn.mixture import GaussianMixture"
   ]
  },
  {
   "cell_type": "code",
   "execution_count": 15,
   "metadata": {},
   "outputs": [],
   "source": [
    "real_train_data = data_train[data_train['counterfeit']==0]\n",
    "counterfeit_train_data = data_train[data_train['counterfeit']==1]"
   ]
  },
  {
   "cell_type": "code",
   "execution_count": 16,
   "metadata": {},
   "outputs": [
    {
     "data": {
      "text/plain": [
       "0.44469783352337516"
      ]
     },
     "execution_count": 16,
     "metadata": {},
     "output_type": "execute_result"
    }
   ],
   "source": [
    "len(counterfeit_train_data)/len(data_train)"
   ]
  },
  {
   "cell_type": "code",
   "execution_count": 17,
   "metadata": {},
   "outputs": [
    {
     "data": {
      "text/plain": [
       "0.5553021664766249"
      ]
     },
     "execution_count": 17,
     "metadata": {},
     "output_type": "execute_result"
    }
   ],
   "source": [
    "len(real_train_data)/len(data_train)"
   ]
  },
  {
   "cell_type": "code",
   "execution_count": 18,
   "metadata": {},
   "outputs": [
    {
     "name": "stdout",
     "output_type": "stream",
     "text": [
      "           a1        a2       a3\n",
      "881   7.92740 -0.056842 -2.16940\n",
      "882   6.12510  0.529240  0.47886\n",
      "555   2.49550  0.485540  0.36119\n",
      "144  -4.97040  3.502500 -0.23751\n",
      "377   0.40143  1.456300  0.65343\n",
      "..        ...       ...      ...\n",
      "160   1.28290  1.927600  1.79910\n",
      "273  10.85130 -3.146600 -3.97840\n",
      "334   8.79440 -3.635900 -1.37540\n",
      "457   4.43030 -1.333500 -1.75170\n",
      "145  -4.09510  4.367000  1.06980\n",
      "\n",
      "[487 rows x 3 columns]\n"
     ]
    }
   ],
   "source": [
    "gm_0 = GaussianMixture(n_components=2) \n",
    "gm_1 = GaussianMixture(n_components=2) \n",
    "print(real_train_data.loc[:,'a1':'a3'])"
   ]
  },
  {
   "cell_type": "code",
   "execution_count": 19,
   "metadata": {},
   "outputs": [
    {
     "data": {
      "text/plain": [
       "GaussianMixture(n_components=2)"
      ]
     },
     "execution_count": 19,
     "metadata": {},
     "output_type": "execute_result"
    }
   ],
   "source": [
    "gm_0.fit(real_train_data.loc[:,'a1':'a3'])\n",
    "gm_1.fit(counterfeit_train_data.loc[:,'a1':'a3'])"
   ]
  },
  {
   "cell_type": "code",
   "execution_count": 20,
   "metadata": {},
   "outputs": [],
   "source": [
    "def make_pdf(gm):\n",
    "    \"\"\"\n",
    "    Takes a GaussianMixture object and returns corresponding\n",
    "    probability distribution function\n",
    "    \"\"\"\n",
    "    n_cmp = gm.n_components\n",
    "    dists = [st.multivariate_normal(gm.means_[i], gm.covariances_[i]) for i in range(n_cmp)]\n",
    "    def pdf(x):\n",
    "        p = 0.0\n",
    "        for i in range(n_cmp):\n",
    "            p+= gm.weights_[i]*dists[i].pdf(x)\n",
    "        return p\n",
    "    \n",
    "    return pdf\n",
    "    \n",
    "    \n",
    "def make_predict_proba(gm_0, gm_1, pi0=0.5, pi1=0.5):\n",
    "    \"\"\"\n",
    "    Takes two GaussianMixture object and corresponding priors and returns \n",
    "    pdf for conditional probability P(c=1|x)\n",
    "    \"\"\"\n",
    "    pdf0 = make_pdf(gm_0)\n",
    "    pdf1 = make_pdf(gm_1)\n",
    "    def p(x):\n",
    "        p0=pi0*pdf0(x)\n",
    "        p1=pi1*pdf1(x)\n",
    "        return p1/(p1+p0)    \n",
    "        \n",
    "    return p"
   ]
  },
  {
   "cell_type": "code",
   "execution_count": 21,
   "metadata": {},
   "outputs": [],
   "source": [
    "gm_predict_proba = make_predict_proba(gm_0, gm_1, 0.56, 0.44)"
   ]
  },
  {
   "cell_type": "code",
   "execution_count": 22,
   "metadata": {},
   "outputs": [],
   "source": [
    "gm_test_proba = gm_predict_proba(data_test.loc[:,'a1':'a3'])"
   ]
  },
  {
   "cell_type": "code",
   "execution_count": 23,
   "metadata": {},
   "outputs": [],
   "source": [
    "gm_tnr, gm_fpr, gm_fnr, gm_tpr = confusion_matrix(data_test['counterfeit'], gm_test_proba>0.5,normalize = 'true').ravel()"
   ]
  },
  {
   "cell_type": "code",
   "execution_count": 24,
   "metadata": {},
   "outputs": [],
   "source": [
    "gm_f1 = f1_score(data_test['counterfeit'], gm_test_proba>0.5)\n",
    "gm_precision = precision_score(data_test['counterfeit'], gm_test_proba>0.5)"
   ]
  },
  {
   "cell_type": "code",
   "execution_count": 25,
   "metadata": {},
   "outputs": [],
   "source": [
    "gm_auc = roc_auc_score(data_test['counterfeit'], gm_test_proba)\n",
    "gm_fprs, gm_tprs, gm_thds = roc_curve(data_test['counterfeit'], gm_test_proba)"
   ]
  },
  {
   "cell_type": "code",
   "execution_count": 26,
   "metadata": {},
   "outputs": [],
   "source": [
    "#sb.glue('B_scores',['tnr', 'fpr', 'fnr', 'tpr', 'precision', 'f1', 'auc'], display=True)"
   ]
  },
  {
   "cell_type": "code",
   "execution_count": 27,
   "metadata": {},
   "outputs": [
    {
     "data": {
      "application/scrapbook.scrap.json+json": {
       "data": [
        0.9672131147540983,
        0.03278688524590164,
        0.20408163265306123,
        0.7959183673469388,
        0.9512195121951219,
        0.8666666666666666,
        0.9637838742054199
       ],
       "encoder": "json",
       "name": "B_scores",
       "version": 1
      }
     },
     "metadata": {
      "scrapbook": {
       "data": true,
       "display": false,
       "name": "B_scores"
      }
     },
     "output_type": "display_data"
    },
    {
     "data": {
      "text/plain": [
       "[0.9672131147540983,\n",
       " 0.03278688524590164,\n",
       " 0.20408163265306123,\n",
       " 0.7959183673469388,\n",
       " 0.9512195121951219,\n",
       " 0.8666666666666666,\n",
       " 0.9637838742054199]"
      ]
     },
     "metadata": {
      "scrapbook": {
       "data": false,
       "display": true,
       "name": "B_scores"
      }
     },
     "output_type": "display_data"
    }
   ],
   "source": [
    "sb.glue('B_scores',[gm_tnr, gm_fpr, gm_fnr, gm_tpr, gm_precision, gm_f1, gm_auc], display=True)"
   ]
  },
  {
   "cell_type": "markdown",
   "metadata": {},
   "source": [
    "also please save the ROC plot"
   ]
  },
  {
   "cell_type": "code",
   "execution_count": 28,
   "metadata": {},
   "outputs": [
    {
     "data": {
      "image/png": "[encoded data removed]",
      "text/plain": [
       "<Figure size 432x288 with 1 Axes>"
      ]
     },
     "metadata": {
      "needs_background": "light"
     },
     "output_type": "display_data"
    }
   ],
   "source": [
    "fig, ax = plt.subplots()\n",
    "#plot ROC\n",
    "ax.set_aspect(1)\n",
    "ax.plot([0, 1], [0, 1], linewidth=1, linestyle='--', color='grey')\n",
    "ax.plot(fprs, tprs, label=\"{1:5.3f} {0:s} \".format('qda', auc))\n",
    "ax.plot(gm_fprs, gm_tprs, label=\"{1:5.3f} {0:s} \".format('gm', gm_auc))\n",
    "ax.legend(title='AUC')\n",
    "sb.glue('B_ROC',fig, \"display\", display=False)"
   ]
  },
  {
   "cell_type": "markdown",
   "metadata": {},
   "source": [
    "### C."
   ]
  },
  {
   "cell_type": "markdown",
   "metadata": {},
   "source": [
    "Use k-fold cross validation to find the optimal number of gaussian components for each class. As before calculate the confusion matrix, AUC score and plot the ROC curve for the best classifier. "
   ]
  },
  {
   "cell_type": "markdown",
   "metadata": {},
   "source": [
    "__Hint__ use the `StratifiedKFold` function from scikit-learn library to generate folds. "
   ]
  },
  {
   "cell_type": "code",
   "execution_count": 29,
   "metadata": {},
   "outputs": [],
   "source": [
    "from sklearn.mixture import GaussianMixture"
   ]
  },
  {
   "cell_type": "code",
   "execution_count": 30,
   "metadata": {},
   "outputs": [],
   "source": [
    "from sklearn.model_selection import StratifiedKFold"
   ]
  },
  {
   "cell_type": "code",
   "execution_count": 31,
   "metadata": {},
   "outputs": [],
   "source": [
    "def fit_gms(n_cmp_neg, n_cmp_pos, train, test, pi0, pi1):\n",
    "    gm0 = GaussianMixture(n_components=n_cmp_neg)\n",
    "    gm1 = GaussianMixture(n_components=n_cmp_pos)\n",
    "    real_train_data = train[train['counterfeit']==0]\n",
    "    counterfeit_train_data = train[train['counterfeit']==1]\n",
    "    gm0.fit(real_train_data.loc[:, 'a1':'a3'])\n",
    "    gm1.fit(counterfeit_train_data.loc[:, 'a1':'a3'])\n",
    "    mga = make_predict_proba(gm0, gm1, pi0,pi1)\n",
    "    proba_test = mga(test.loc[:, 'a1':'a3'])\n",
    "    return f1_score(test['counterfeit'], proba_test>0.5)"
   ]
  },
  {
   "cell_type": "code",
   "execution_count": 32,
   "metadata": {},
   "outputs": [],
   "source": [
    "splits=5\n",
    "skf = StratifiedKFold(n_splits=splits, shuffle=True)\n",
    "cmps_range = (3, 30)\n",
    "max_score = 0\n",
    "\n",
    "for cmps0 in range(*cmps_range):\n",
    "    for cmps1 in range(*cmps_range):\n",
    "        f1 = 0.0\n",
    "        for train_index, test_index in skf.split(data_train.loc[:, 'a1':'a3'], data_train['counterfeit']):\n",
    "            f1 += fit_gms(cmps0, cmps1, data_train.iloc[train_index], data_train.iloc[test_index], 0.56, 0.44)/splits\n",
    "        #print(cmps0,cmps1,f1)\n",
    "        if(f1>max_score):\n",
    "            max_score=f1\n",
    "            opt_n_cmp = [cmps0,cmps1]"
   ]
  },
  {
   "cell_type": "code",
   "execution_count": 33,
   "metadata": {},
   "outputs": [
    {
     "name": "stdout",
     "output_type": "stream",
     "text": [
      "0.9640755025528499\n",
      "[27, 28]\n"
     ]
    }
   ],
   "source": [
    "#15,25 if cpms_range set to (3,30), it takes a while to calculate\n",
    "#opt_n_cmp=[15,25]\n",
    "#max_score = 0.9656453398177547\n",
    "print(max_score)\n",
    "print(opt_n_cmp)"
   ]
  },
  {
   "cell_type": "code",
   "execution_count": 34,
   "metadata": {},
   "outputs": [
    {
     "data": {
      "text/plain": [
       "GaussianMixture(n_components=28)"
      ]
     },
     "execution_count": 34,
     "metadata": {},
     "output_type": "execute_result"
    }
   ],
   "source": [
    "gm_0_opt = GaussianMixture(n_components=opt_n_cmp[0])\n",
    "gm_1_opt = GaussianMixture(n_components=opt_n_cmp[1])\n",
    "\n",
    "gm_0_opt.fit(real_train_data.loc[:,'a1':'a3'])\n",
    "gm_1_opt.fit(counterfeit_train_data.loc[:,'a1':'a3'])"
   ]
  },
  {
   "cell_type": "code",
   "execution_count": 35,
   "metadata": {},
   "outputs": [],
   "source": [
    "#  store the results of the best fit \n",
    "# sb.glue(\"C_n_cmp\",['n_cmp_pos', 'n_cmp_neg', 'best_f1_score'])"
   ]
  },
  {
   "cell_type": "code",
   "execution_count": 36,
   "metadata": {},
   "outputs": [
    {
     "data": {
      "application/scrapbook.scrap.json+json": {
       "data": [
        28,
        27,
        0.9640755025528499
       ],
       "encoder": "json",
       "name": "C_n_cmp",
       "version": 1
      }
     },
     "metadata": {
      "scrapbook": {
       "data": true,
       "display": false,
       "name": "C_n_cmp"
      }
     },
     "output_type": "display_data"
    },
    {
     "data": {
      "text/plain": [
       "[28, 27, 0.9640755025528499]"
      ]
     },
     "metadata": {
      "scrapbook": {
       "data": false,
       "display": true,
       "name": "C_n_cmp"
      }
     },
     "output_type": "display_data"
    }
   ],
   "source": [
    "sb.glue(\"C_n_cmp\",[opt_n_cmp[1], opt_n_cmp[0], max_score], display=True)"
   ]
  },
  {
   "cell_type": "code",
   "execution_count": 37,
   "metadata": {},
   "outputs": [],
   "source": [
    "gm_opt_predict_proba = make_predict_proba(gm_0_opt, gm_1_opt, 0.56, 0.44)\n",
    "gm_opt_test_proba = gm_opt_predict_proba(data_test.loc[:,'a1':'a3'])"
   ]
  },
  {
   "cell_type": "code",
   "execution_count": 38,
   "metadata": {},
   "outputs": [],
   "source": [
    "gm_opt_tnr, gm_opt_fpr, gm_opt_fnr, gm_opt_tpr = confusion_matrix(data_test['counterfeit'], gm_opt_test_proba>0.5,normalize = 'true').ravel()"
   ]
  },
  {
   "cell_type": "code",
   "execution_count": 39,
   "metadata": {},
   "outputs": [],
   "source": [
    "gm_opt_auc = roc_auc_score(data_test['counterfeit'], gm_opt_test_proba)\n",
    "gm_opt_fprs, gm_opt_tprs, gm_opt_thds = roc_curve(data_test['counterfeit'], gm_opt_test_proba)"
   ]
  },
  {
   "cell_type": "code",
   "execution_count": 40,
   "metadata": {},
   "outputs": [],
   "source": [
    "gm_opt_f1 = f1_score(data_test['counterfeit'], gm_opt_test_proba>0.5)\n",
    "gm_opt_precision = precision_score(data_test['counterfeit'], gm_opt_test_proba>0.5)"
   ]
  },
  {
   "cell_type": "markdown",
   "metadata": {},
   "source": [
    "Store the results for the best estimator"
   ]
  },
  {
   "cell_type": "code",
   "execution_count": 41,
   "metadata": {},
   "outputs": [],
   "source": [
    "#sb.glue('C_scores',['tnr', 'fpr', 'fnr', 'tpr', 'precision', 'f1', 'auc'], display=True)"
   ]
  },
  {
   "cell_type": "code",
   "execution_count": 42,
   "metadata": {},
   "outputs": [
    {
     "data": {
      "application/scrapbook.scrap.json+json": {
       "data": [
        0.9918032786885246,
        0.00819672131147541,
        0.05102040816326531,
        0.9489795918367347,
        0.9893617021276596,
        0.96875,
        0.9965707594513215
       ],
       "encoder": "json",
       "name": "C_scores",
       "version": 1
      }
     },
     "metadata": {
      "scrapbook": {
       "data": true,
       "display": false,
       "name": "C_scores"
      }
     },
     "output_type": "display_data"
    },
    {
     "data": {
      "text/plain": [
       "[0.9918032786885246,\n",
       " 0.00819672131147541,\n",
       " 0.05102040816326531,\n",
       " 0.9489795918367347,\n",
       " 0.9893617021276596,\n",
       " 0.96875,\n",
       " 0.9965707594513215]"
      ]
     },
     "metadata": {
      "scrapbook": {
       "data": false,
       "display": true,
       "name": "C_scores"
      }
     },
     "output_type": "display_data"
    }
   ],
   "source": [
    "sb.glue('C_scores',[gm_opt_tnr, gm_opt_fpr, gm_opt_fnr, gm_opt_tpr, gm_opt_precision, gm_opt_f1, gm_opt_auc], display=True)"
   ]
  },
  {
   "cell_type": "markdown",
   "metadata": {},
   "source": [
    "also please save the ROC plot"
   ]
  },
  {
   "cell_type": "code",
   "execution_count": 43,
   "metadata": {},
   "outputs": [
    {
     "data": {
      "image/png": "[encoded data removed]",
      "text/plain": [
       "<Figure size 432x288 with 1 Axes>"
      ]
     },
     "metadata": {
      "needs_background": "light"
     },
     "output_type": "display_data"
    }
   ],
   "source": [
    "fig, ax = plt.subplots()\n",
    "#plot ROC\n",
    "ax.set_aspect(1)\n",
    "ax.plot([0, 1], [0, 1], linewidth=1, linestyle='--', color='grey')\n",
    "ax.plot(fprs, tprs, label=\"{1:5.3f} {0:s} \".format('qda', auc))\n",
    "ax.plot(gm_fprs, gm_tprs, label=\"{1:5.3f} {0:s} \".format('gm', gm_auc))\n",
    "ax.plot(gm_opt_fprs, gm_opt_tprs, label=\"{1:5.3f} {0:s} \".format('gm', gm_opt_auc))\n",
    "ax.legend(title='AUC')\n",
    "sb.glue('C_ROC',fig, \"display\", display=False)"
   ]
  },
  {
   "cell_type": "markdown",
   "metadata": {},
   "source": [
    "## D.  "
   ]
  },
  {
   "cell_type": "markdown",
   "metadata": {},
   "source": [
    "Assume that 1% of all the customers in your store presents a counterfeit 100PLN bill. If you accept the counterfeit bill you loose 100PLN. If you reject a valid bill,  you may loose the purchase, you estimate this loss as 15PLN on average. For each of the three classifiers find the threshold that minimises your losses and calculates the minimum loss for each classifier. Show the optimal classifiers points on the ROC curves."
   ]
  },
  {
   "cell_type": "code",
   "execution_count": 44,
   "metadata": {},
   "outputs": [],
   "source": [
    "def score(fpr,fnr):\n",
    "    fp_loss = fpr * 0.01 * 15\n",
    "    fn_loss = fnr * 0.01 * 100\n",
    "    return fp_loss+fn_loss"
   ]
  },
  {
   "cell_type": "code",
   "execution_count": 45,
   "metadata": {},
   "outputs": [],
   "source": [
    "def find_optimal(fprs,tprs,thds, test_proba):\n",
    "    min_loss = 1\n",
    "    index = 0\n",
    "    for i in range(len(thds)):\n",
    "            s=score(fprs[i], 1-tprs[i])\n",
    "            if (s<min_loss):\n",
    "                min_loss=s\n",
    "                index=i\n",
    "    tnr = 1 - fprs[index]\n",
    "    fpr = fprs[index]\n",
    "    fnr = 1 - tprs[index]\n",
    "    tpr = tprs[index]\n",
    "    threshold = thds[index]\n",
    "    precision = precision_score(data_test['counterfeit'], test_proba>threshold)\n",
    "    f1 = f1_score(data_test['counterfeit'], test_proba>threshold)\n",
    "    auc = roc_auc_score(data_test['counterfeit'], test_proba)\n",
    "    return tnr, fpr, fnr, tpr, precision, f1, auc, min_loss, threshold"
   ]
  },
  {
   "cell_type": "code",
   "execution_count": 46,
   "metadata": {},
   "outputs": [],
   "source": [
    "tnr, fpr, fnr, tpr, precision, f1, auc, min_loss, threshold = find_optimal(fprs,tprs,thds,test_proba)"
   ]
  },
  {
   "cell_type": "code",
   "execution_count": 47,
   "metadata": {},
   "outputs": [],
   "source": [
    "#sb.glue('D_A_scores',['tnr', 'fpr', 'fnr', 'tpr', 'precision', 'f1', 'auc', 'min_loss', 'threshold'], display=True)"
   ]
  },
  {
   "cell_type": "code",
   "execution_count": 48,
   "metadata": {},
   "outputs": [
    {
     "data": {
      "application/scrapbook.scrap.json+json": {
       "data": [
        0.8114754098360656,
        0.1885245901639344,
        0.05102040816326525,
        0.9489795918367347,
        0.8,
        0.8638497652582161,
        0.917447306791569,
        0.07929909668785542,
        0.19767769298527305
       ],
       "encoder": "json",
       "name": "D_A_scores",
       "version": 1
      }
     },
     "metadata": {
      "scrapbook": {
       "data": true,
       "display": false,
       "name": "D_A_scores"
      }
     },
     "output_type": "display_data"
    },
    {
     "data": {
      "text/plain": [
       "[0.8114754098360656,\n",
       " 0.1885245901639344,\n",
       " 0.05102040816326525,\n",
       " 0.9489795918367347,\n",
       " 0.8,\n",
       " 0.8638497652582161,\n",
       " 0.917447306791569,\n",
       " 0.07929909668785542,\n",
       " 0.19767769298527305]"
      ]
     },
     "metadata": {
      "scrapbook": {
       "data": false,
       "display": true,
       "name": "D_A_scores"
      }
     },
     "output_type": "display_data"
    }
   ],
   "source": [
    "sb.glue('D_A_scores',[tnr, fpr, fnr, tpr, precision, f1, auc, min_loss, threshold], display=True)"
   ]
  },
  {
   "cell_type": "code",
   "execution_count": 49,
   "metadata": {},
   "outputs": [],
   "source": [
    "gm_tnr, gm_fpr, gm_fnr, gm_tpr, gm_precision, gm_f1, gm_auc, gm_min_loss, gm_threshold = find_optimal(gm_fprs,gm_tprs,gm_thds,gm_test_proba)"
   ]
  },
  {
   "cell_type": "code",
   "execution_count": 50,
   "metadata": {},
   "outputs": [],
   "source": [
    "#sb.glue('D_B_scores',['tnr', 'fpr', 'fnr', 'tpr', 'precision', 'f1', 'auc', 'min_loss', 'threshold'], display=True)"
   ]
  },
  {
   "cell_type": "code",
   "execution_count": 51,
   "metadata": {},
   "outputs": [
    {
     "data": {
      "application/scrapbook.scrap.json+json": {
       "data": [
        0.7459016393442623,
        0.2540983606557377,
        0.020408163265306145,
        0.9795918367346939,
        0.753968253968254,
        0.8482142857142858,
        0.9637838742054199,
        0.0585229173636668,
        0.05485486664271608
       ],
       "encoder": "json",
       "name": "D_B_scores",
       "version": 1
      }
     },
     "metadata": {
      "scrapbook": {
       "data": true,
       "display": false,
       "name": "D_B_scores"
      }
     },
     "output_type": "display_data"
    },
    {
     "data": {
      "text/plain": [
       "[0.7459016393442623,\n",
       " 0.2540983606557377,\n",
       " 0.020408163265306145,\n",
       " 0.9795918367346939,\n",
       " 0.753968253968254,\n",
       " 0.8482142857142858,\n",
       " 0.9637838742054199,\n",
       " 0.0585229173636668,\n",
       " 0.05485486664271608]"
      ]
     },
     "metadata": {
      "scrapbook": {
       "data": false,
       "display": true,
       "name": "D_B_scores"
      }
     },
     "output_type": "display_data"
    }
   ],
   "source": [
    "sb.glue('D_B_scores',[gm_tnr, gm_fpr, gm_fnr, gm_tpr, gm_precision, gm_f1, gm_auc, gm_min_loss, gm_threshold], display=True)"
   ]
  },
  {
   "cell_type": "code",
   "execution_count": 52,
   "metadata": {},
   "outputs": [],
   "source": [
    "gm_opt_tnr, gm_opt_fpr, gm_opt_fnr, gm_opt_tpr, gm_opt_precision, gm_opt_f1, gm_opt_auc, gm_opt_min_loss, gm_opt_threshold = find_optimal(gm_opt_fprs,gm_opt_tprs, gm_opt_thds,gm_opt_test_proba)"
   ]
  },
  {
   "cell_type": "code",
   "execution_count": 53,
   "metadata": {},
   "outputs": [],
   "source": [
    "#sb.glue('D_C_scores',['tnr', 'fpr', 'fnr', 'tpr', 'precision', 'f1', 'auc', 'min_loss', 'threshold'], display=True)"
   ]
  },
  {
   "cell_type": "code",
   "execution_count": 54,
   "metadata": {},
   "outputs": [
    {
     "data": {
      "application/scrapbook.scrap.json+json": {
       "data": [
        0.9262295081967213,
        0.07377049180327869,
        0.010204081632653073,
        0.9897959183673469,
        0.9142857142857143,
        0.9458128078817734,
        0.9965707594513215,
        0.021269655403144877,
        0.06397979117426018
       ],
       "encoder": "json",
       "name": "D_C_scores",
       "version": 1
      }
     },
     "metadata": {
      "scrapbook": {
       "data": true,
       "display": false,
       "name": "D_C_scores"
      }
     },
     "output_type": "display_data"
    },
    {
     "data": {
      "text/plain": [
       "[0.9262295081967213,\n",
       " 0.07377049180327869,\n",
       " 0.010204081632653073,\n",
       " 0.9897959183673469,\n",
       " 0.9142857142857143,\n",
       " 0.9458128078817734,\n",
       " 0.9965707594513215,\n",
       " 0.021269655403144877,\n",
       " 0.06397979117426018]"
      ]
     },
     "metadata": {
      "scrapbook": {
       "data": false,
       "display": true,
       "name": "D_C_scores"
      }
     },
     "output_type": "display_data"
    }
   ],
   "source": [
    "sb.glue('D_C_scores',[gm_opt_tnr, gm_opt_fpr, gm_opt_fnr, gm_opt_tpr, gm_opt_precision, gm_opt_f1, gm_opt_auc, gm_opt_min_loss, gm_opt_threshold], display=True)"
   ]
  },
  {
   "cell_type": "markdown",
   "metadata": {},
   "source": [
    "also please save the ROC plot"
   ]
  },
  {
   "cell_type": "code",
   "execution_count": 55,
   "metadata": {},
   "outputs": [
    {
     "data": {
      "image/png": "[encoded data removed]",
      "text/plain": [
       "<Figure size 432x288 with 1 Axes>"
      ]
     },
     "metadata": {
      "needs_background": "light"
     },
     "output_type": "display_data"
    }
   ],
   "source": [
    "fig, ax = plt.subplots()\n",
    "#plot ROCs\n",
    "ax.set_aspect(1)\n",
    "ax.plot([0, 1], [0, 1], linewidth=1, linestyle='--', color='grey')\n",
    "ax.plot(fprs, tprs, label=\"{1:5.3f} {0:s} \".format('qda', auc))\n",
    "ax.scatter([fpr],[tpr], s = 30)\n",
    "ax.plot(gm_fprs, gm_tprs, label=\"{1:5.3f} {0:s} \".format('gm', gm_auc))\n",
    "ax.scatter([gm_fpr],[gm_tpr], s = 30)\n",
    "ax.plot(gm_opt_fprs, gm_opt_tprs, label=\"{1:5.3f} {0:s} \".format('gm_opt', gm_opt_auc))\n",
    "ax.scatter([gm_opt_fpr],[gm_opt_tpr], s = 30)\n",
    "ax.legend(title='AUC')\n",
    "sb.glue('D_ROC',fig, \"display\", display=False)"
   ]
  },
  {
   "cell_type": "code",
   "execution_count": null,
   "metadata": {},
   "outputs": [],
   "source": []
  },
  {
   "cell_type": "code",
   "execution_count": null,
   "metadata": {},
   "outputs": [],
   "source": []
  }
 ],
 "metadata": {
  "kernelspec": {
   "display_name": "Python 3",
   "language": "python",
   "name": "python3"
  },
  "language_info": {
   "codemirror_mode": {
    "name": "ipython",
    "version": 3
   },
   "file_extension": ".py",
   "mimetype": "text/x-python",
   "name": "python",
   "nbconvert_exporter": "python",
   "pygments_lexer": "ipython3",
   "version": "3.9.4"
  }
 },
 "nbformat": 4,
 "nbformat_minor": 4
}
